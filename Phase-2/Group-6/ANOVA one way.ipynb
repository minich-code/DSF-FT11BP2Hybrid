{
 "cells": [
  {
   "cell_type": "markdown",
   "id": "daa996da",
   "metadata": {},
   "source": [
    "## One way ANOVA"
   ]
  },
  {
   "cell_type": "markdown",
   "id": "cb28a54c",
   "metadata": {},
   "source": [
    "Checking if mean age of passengers differs significantly across the classes"
   ]
  },
  {
   "cell_type": "code",
   "execution_count": 1,
   "id": "979fdebf",
   "metadata": {},
   "outputs": [],
   "source": [
    "import seaborn as sns\n",
    "from scipy.stats import f_oneway"
   ]
  },
  {
   "cell_type": "code",
   "execution_count": 2,
   "id": "33409c77",
   "metadata": {},
   "outputs": [],
   "source": [
    "# Load Titanic dataset\n",
    "titanic = sns.load_dataset('titanic')"
   ]
  },
  {
   "cell_type": "code",
   "execution_count": 3,
   "id": "a4ee13fc",
   "metadata": {},
   "outputs": [
    {
     "name": "stdout",
     "output_type": "stream",
     "text": [
      "age      177\n",
      "class      0\n",
      "dtype: int64\n"
     ]
    }
   ],
   "source": [
    "# Check the dataset for missing values in 'age' and 'class'\n",
    "print(titanic[['age', 'class']].isnull().sum())"
   ]
  },
  {
   "cell_type": "code",
   "execution_count": 4,
   "id": "d03238f6",
   "metadata": {},
   "outputs": [],
   "source": [
    "# Drop rows with missing values\n",
    "titanic_clean = titanic[['age', 'class']].dropna()"
   ]
  },
  {
   "cell_type": "code",
   "execution_count": 5,
   "id": "f1ece49b",
   "metadata": {},
   "outputs": [],
   "source": [
    "# Group ages by classes\n",
    "first_class = titanic_clean[titanic_clean['class'] == 'First']['age']\n",
    "second_class = titanic_clean[titanic_clean['class'] == 'Second']['age']\n",
    "third_class = titanic_clean[titanic_clean['class'] == 'Third']['age']"
   ]
  },
  {
   "cell_type": "code",
   "execution_count": 6,
   "id": "195cc2d0",
   "metadata": {},
   "outputs": [
    {
     "name": "stdout",
     "output_type": "stream",
     "text": [
      "F-Statistic: 57.443484340676214\n",
      "P-value: 7.487984171959904e-24\n",
      "\n",
      "Reject the null hypothesis: Mean age differs significantly across classes.\n"
     ]
    }
   ],
   "source": [
    "# Perform One-Way ANOVA\n",
    "f_stat, p_value = f_oneway(first_class, second_class, third_class)\n",
    "\n",
    "print(\"F-Statistic:\", f_stat)\n",
    "print(\"P-value:\", p_value)\n",
    "\n",
    "# Interpretation\n",
    "alpha = 0.05\n",
    "if p_value < alpha:\n",
    "    print(\"\\nReject the null hypothesis: Mean age differs significantly across classes.\")\n",
    "else:\n",
    "    print(\"\\nFail to reject the null hypothesis: No significant difference in mean age across classes.\")"
   ]
  }
 ],
 "metadata": {
  "kernelspec": {
   "display_name": "Python 3 (ipykernel)",
   "language": "python",
   "name": "python3"
  },
  "language_info": {
   "codemirror_mode": {
    "name": "ipython",
    "version": 3
   },
   "file_extension": ".py",
   "mimetype": "text/x-python",
   "name": "python",
   "nbconvert_exporter": "python",
   "pygments_lexer": "ipython3",
   "version": "3.11.7"
  }
 },
 "nbformat": 4,
 "nbformat_minor": 5
}
