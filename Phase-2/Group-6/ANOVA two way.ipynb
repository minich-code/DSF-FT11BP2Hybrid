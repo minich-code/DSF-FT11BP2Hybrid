{
 "cells": [
  {
   "cell_type": "markdown",
   "id": "b1422e9f",
   "metadata": {},
   "source": [
    "## Two way ANOVA"
   ]
  },
  {
   "cell_type": "markdown",
   "id": "9826a978",
   "metadata": {},
   "source": [
    "Checking if fare varies significantly based on both class and the port embarked"
   ]
  },
  {
   "cell_type": "markdown",
   "id": "95da051a",
   "metadata": {},
   "source": [
    "#### Hypothesis  \n",
    "Null hypothesis:  \n",
    "The mean fare doesn't significantly differ across passenger classes.  \n",
    "Alternative Hypothesis:  \n",
    "The mean fare differs for at least one passenger class."
   ]
  },
  {
   "cell_type": "code",
   "execution_count": 1,
   "id": "f05fcc1f",
   "metadata": {},
   "outputs": [],
   "source": [
    "import seaborn as sns\n",
    "import pandas as pd\n",
    "import statsmodels.api as sm\n",
    "from statsmodels.formula.api import ols"
   ]
  },
  {
   "cell_type": "code",
   "execution_count": 2,
   "id": "a1825bbd",
   "metadata": {},
   "outputs": [],
   "source": [
    "# Load Titanic dataset\n",
    "titanic = sns.load_dataset('titanic')"
   ]
  },
  {
   "cell_type": "code",
   "execution_count": 3,
   "id": "2c21c85e",
   "metadata": {},
   "outputs": [
    {
     "name": "stdout",
     "output_type": "stream",
     "text": [
      "fare        0\n",
      "class       0\n",
      "embarked    2\n",
      "dtype: int64\n"
     ]
    }
   ],
   "source": [
    "# Check for missing values in relevant columns\n",
    "print(titanic[['fare', 'class', 'embarked']].isnull().sum())"
   ]
  },
  {
   "cell_type": "code",
   "execution_count": 4,
   "id": "207d41dc",
   "metadata": {},
   "outputs": [],
   "source": [
    "# Drop rows with missing values\n",
    "titanic_clean = titanic[['fare', 'class', 'embarked']].dropna()"
   ]
  },
  {
   "cell_type": "code",
   "execution_count": 5,
   "id": "5135c292",
   "metadata": {},
   "outputs": [],
   "source": [
    "# Renaming the column as it is conflicting with a reserved keyword\n",
    "titanic_clean.rename(columns={'class': 'class_boarded'}, inplace=True)"
   ]
  },
  {
   "cell_type": "code",
   "execution_count": 6,
   "id": "da3cf4a5",
   "metadata": {},
   "outputs": [
    {
     "data": {
      "text/plain": [
       "Index(['fare', 'class_boarded', 'embarked'], dtype='object')"
      ]
     },
     "execution_count": 6,
     "metadata": {},
     "output_type": "execute_result"
    }
   ],
   "source": [
    "titanic_clean.columns"
   ]
  },
  {
   "cell_type": "markdown",
   "id": "90d13eed",
   "metadata": {},
   "source": [
    "#### Generating the Anova table\n",
    "\n",
    "In order to generate the ANOVA table, we first fit a linear model and then generate the table from this object.  \n",
    "The formula:  \n",
    "\n",
    "Control_Column ~ C(factor_col1) + factor_col2 + C(factor_col3) + ... + X"
   ]
  },
  {
   "cell_type": "code",
   "execution_count": 7,
   "id": "9f2b782c",
   "metadata": {},
   "outputs": [
    {
     "name": "stdout",
     "output_type": "stream",
     "text": [
      "Two-Way ANOVA Results:\n",
      "                                     sum_sq     df           F        PR(>F)\n",
      "C(class_boarded)              6.199766e+05    2.0  200.611239  1.650342e-72\n",
      "C(embarked)                   2.234883e+04    2.0    7.231607  7.671544e-04\n",
      "C(class_boarded):C(embarked)  3.959226e+04    4.0    6.405606  4.408632e-05\n",
      "Residual                      1.359793e+06  880.0         NaN           NaN\n",
      "\n",
      "Reject the null hypothesis: The factor 'C(class_boarded)' significantly affects the fare.\n",
      "\n",
      "Reject the null hypothesis: The factor 'C(embarked)' significantly affects the fare.\n",
      "\n",
      "Reject the null hypothesis: The factor 'C(class_boarded):C(embarked)' significantly affects the fare.\n",
      "\n",
      "Fail to reject the null hypothesis: The factor 'Residual' does not significantly affect the fare.\n"
     ]
    }
   ],
   "source": [
    "# Perform Two-Way ANOVA\n",
    "model = ols('fare ~ C(class_boarded) + C(embarked) + C(class_boarded):C(embarked)', data=titanic_clean).fit()\n",
    "anova_table = sm.stats.anova_lm(model, typ=2)\n",
    "\n",
    "print(\"Two-Way ANOVA Results:\\n\", anova_table)\n",
    "\n",
    "# Interpretation\n",
    "alpha = 0.05\n",
    "for factor, row in anova_table.iterrows():\n",
    "    p_value = row['PR(>F)']\n",
    "    if p_value < alpha:\n",
    "        print(f\"\\nReject the null hypothesis: The factor '{factor}' significantly affects the fare.\")\n",
    "    else:\n",
    "        print(f\"\\nFail to reject the null hypothesis: The factor '{factor}' does not significantly affect the fare.\")"
   ]
  },
  {
   "cell_type": "markdown",
   "id": "fcd9963d",
   "metadata": {},
   "source": [
    "### Interpretation of Factors:\n",
    "C(class_boarded)  \n",
    "P-value (1.65e-72) is much smaller than alpha = 0.05.\n",
    "Conclusion: The fare is significantly affected by the passenger class. \n",
    "\n",
    "C(embarked)  \n",
    "P-value (7.67e-4) is smaller than alpha = 0.05.\n",
    "Conclusion: The fare is significantly affected by the port of embarkation.  \n",
    "\n",
    "C(class_boarded):C(embarked) (Interaction Effect)  \n",
    "P-value (4.41e-5) is smaller than alpha = 0.05.\n",
    "Conclusion: There is a significant interaction effect between the passenger class and embarkation port on the fare.\n",
    "This means the way fare changes with the class also depends on the embarkation port.  \n",
    "\n",
    "Residual  \n",
    "Residuals represent variation not explained by the model.\n",
    "No p-value here since it represents remaining variability after factoring in the predictors."
   ]
  },
  {
   "cell_type": "markdown",
   "id": "f450a1e0",
   "metadata": {},
   "source": [
    "### Summary\n",
    "We performed a Two-Way ANOVA to examine the effect of passenger class and embarkation port on fare. The results indicate that class_boarded (p < 0.001) and embarked (p < 0.001) both significantly affect fare. Furthermore, there is a significant interaction effect (p < 0.001) between the two variables. This suggests that the influence of the passenger class on fare varies depending on the embarkation port."
   ]
  },
  {
   "cell_type": "code",
   "execution_count": 9,
   "id": "d7f618e4",
   "metadata": {},
   "outputs": [
    {
     "data": {
      "text/html": [
       "<div>\n",
       "<style scoped>\n",
       "    .dataframe tbody tr th:only-of-type {\n",
       "        vertical-align: middle;\n",
       "    }\n",
       "\n",
       "    .dataframe tbody tr th {\n",
       "        vertical-align: top;\n",
       "    }\n",
       "\n",
       "    .dataframe thead th {\n",
       "        text-align: right;\n",
       "    }\n",
       "</style>\n",
       "<table border=\"1\" class=\"dataframe\">\n",
       "  <thead>\n",
       "    <tr style=\"text-align: right;\">\n",
       "      <th></th>\n",
       "      <th>sum_sq</th>\n",
       "      <th>df</th>\n",
       "      <th>F</th>\n",
       "      <th>PR(&gt;F)</th>\n",
       "    </tr>\n",
       "  </thead>\n",
       "  <tbody>\n",
       "    <tr>\n",
       "      <th>C(class_boarded)</th>\n",
       "      <td>6.199766e+05</td>\n",
       "      <td>2.0</td>\n",
       "      <td>200.611239</td>\n",
       "      <td>1.650342e-72</td>\n",
       "    </tr>\n",
       "    <tr>\n",
       "      <th>C(embarked)</th>\n",
       "      <td>2.234883e+04</td>\n",
       "      <td>2.0</td>\n",
       "      <td>7.231607</td>\n",
       "      <td>7.671544e-04</td>\n",
       "    </tr>\n",
       "    <tr>\n",
       "      <th>C(class_boarded):C(embarked)</th>\n",
       "      <td>3.959226e+04</td>\n",
       "      <td>4.0</td>\n",
       "      <td>6.405606</td>\n",
       "      <td>4.408632e-05</td>\n",
       "    </tr>\n",
       "    <tr>\n",
       "      <th>Residual</th>\n",
       "      <td>1.359793e+06</td>\n",
       "      <td>880.0</td>\n",
       "      <td>NaN</td>\n",
       "      <td>NaN</td>\n",
       "    </tr>\n",
       "  </tbody>\n",
       "</table>\n",
       "</div>"
      ],
      "text/plain": [
       "                                    sum_sq     df           F        PR(>F)\n",
       "C(class_boarded)              6.199766e+05    2.0  200.611239  1.650342e-72\n",
       "C(embarked)                   2.234883e+04    2.0    7.231607  7.671544e-04\n",
       "C(class_boarded):C(embarked)  3.959226e+04    4.0    6.405606  4.408632e-05\n",
       "Residual                      1.359793e+06  880.0         NaN           NaN"
      ]
     },
     "execution_count": 9,
     "metadata": {},
     "output_type": "execute_result"
    }
   ],
   "source": [
    "anova_table"
   ]
  },
  {
   "cell_type": "code",
   "execution_count": null,
   "id": "e65ef063",
   "metadata": {},
   "outputs": [],
   "source": []
  }
 ],
 "metadata": {
  "kernelspec": {
   "display_name": "Python 3 (ipykernel)",
   "language": "python",
   "name": "python3"
  },
  "language_info": {
   "codemirror_mode": {
    "name": "ipython",
    "version": 3
   },
   "file_extension": ".py",
   "mimetype": "text/x-python",
   "name": "python",
   "nbconvert_exporter": "python",
   "pygments_lexer": "ipython3",
   "version": "3.11.7"
  }
 },
 "nbformat": 4,
 "nbformat_minor": 5
}
