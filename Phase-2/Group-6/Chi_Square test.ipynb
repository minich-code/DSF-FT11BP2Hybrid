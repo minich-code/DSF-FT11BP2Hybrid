{
 "cells": [
  {
   "cell_type": "markdown",
   "metadata": {},
   "source": [
    "# Chi-Square Test for independence in Python"
   ]
  },
  {
   "cell_type": "code",
   "execution_count": 21,
   "metadata": {},
   "outputs": [
    {
     "name": "stdout",
     "output_type": "stream",
     "text": [
      "['male' 'female']\n",
      "['no' 'yes']\n"
     ]
    }
   ],
   "source": [
    "Ho = \"Gender and Survival in the titanic were independent of each other\"\n",
    "H1 = \"Gender and Survival in the titanic were not independent of each other\"\n",
    "#Import the necessary libraries:\n",
    "import pandas as pd\n",
    "import seaborn as sns\n",
    "from scipy.stats import chi2_contingency\n",
    "import numpy as np\n",
    "# Load Titanic dataset\n",
    "titanic = sns.load_dataset('titanic')\n",
    "titanic.columns\n",
    "print(titanic.sex.unique())\n",
    "print(titanic.alive.unique())"
   ]
  },
  {
   "cell_type": "code",
   "execution_count": 12,
   "metadata": {},
   "outputs": [],
   "source": [
    "#perform the Chi-Square Test\n",
    "#Creating a contingency table\n",
    "contingency_table = pd.crosstab(titanic[\"sex\"], titanic[\"alive\"])\n",
    "#Performing the Chi-Square Test\n",
    "chi2, p, dof, expected = chi2_contingency(contingency_table)\n"
   ]
  },
  {
   "cell_type": "code",
   "execution_count": 15,
   "metadata": {},
   "outputs": [
    {
     "name": "stdout",
     "output_type": "stream",
     "text": [
      "Reject Ho: Gender and Survival in the titanic were independent of each other \n"
     ]
    }
   ],
   "source": [
    "#Interpreting the result\n",
    "at a=0.05\n",
    "if p < a:\n",
    "    print(f\"Reject Ho: {Ho} \")\n",
    "else:\n",
    "    print( f\"Accept Ho: {Ho} \")\n",
    "    \n"
   ]
  },
  {
   "cell_type": "code",
   "execution_count": 16,
   "metadata": {},
   "outputs": [
    {
     "name": "stdout",
     "output_type": "stream",
     "text": [
      "Chi-Square Test statistic: 260.71702016732104\n",
      "Probability value: 1.1973570627755645e-58\n"
     ]
    }
   ],
   "source": [
    "print( f\"Chi-Square Test statistic: {chi2}\")\n",
    "print( f\"Probability value: {p}\")"
   ]
  },
  {
   "cell_type": "markdown",
   "metadata": {},
   "source": [
    "# Chi-Square Test for goodness of fit in Python"
   ]
  },
  {
   "cell_type": "code",
   "execution_count": 19,
   "metadata": {},
   "outputs": [
    {
     "name": "stdout",
     "output_type": "stream",
     "text": [
      "Chi2 Statistic: 0.8\n",
      "P-value: 0.9770333437569263\n",
      "Fail to reject the Ho: The die is fair.\n"
     ]
    }
   ],
   "source": [
    "Ho = \"The die is fair\"\n",
    "H1 = \"The die is not fair\"\n",
    "\n",
    "#Import the necessary libraries:\n",
    "import scipy.stats as stats \n",
    "\n",
    "# Observed frequencies \n",
    "observed = [4, 6, 5, 4, 6, 5] \n",
    "# Expected frequencies (assuming a fair die) \n",
    "expected = [5, 5, 5, 5, 5, 5] \n",
    "\n",
    "# Perform Chi-square goodness of fit test \n",
    "chi2_stat, p_value = stats.chisquare(observed, expected) \n",
    "\n",
    "# Display the results \n",
    "print(\"Chi2 Statistic:\", chi2_stat) \n",
    "print(\"P-value:\", p_value) \n",
    "\n",
    "# Decision \n",
    "alpha = 0.05 \n",
    "if p_value < alpha: \n",
    "    print(f\"Reject the null hypothesis: {H1}.\") \n",
    "else: \n",
    "    print(f\"Fail to reject the Ho: {Ho}.\")\n"
   ]
  },
  {
   "cell_type": "code",
   "execution_count": null,
   "metadata": {},
   "outputs": [],
   "source": []
  }
 ],
 "metadata": {
  "kernelspec": {
   "display_name": "Python (learn-env)",
   "language": "python",
   "name": "learn-env"
  },
  "language_info": {
   "codemirror_mode": {
    "name": "ipython",
    "version": 3
   },
   "file_extension": ".py",
   "mimetype": "text/x-python",
   "name": "python",
   "nbconvert_exporter": "python",
   "pygments_lexer": "ipython3",
   "version": "3.8.5"
  },
  "toc": {
   "base_numbering": 1,
   "nav_menu": {},
   "number_sections": true,
   "sideBar": true,
   "skip_h1_title": false,
   "title_cell": "Table of Contents",
   "title_sidebar": "Contents",
   "toc_cell": false,
   "toc_position": {},
   "toc_section_display": true,
   "toc_window_display": false
  }
 },
 "nbformat": 4,
 "nbformat_minor": 4
}
