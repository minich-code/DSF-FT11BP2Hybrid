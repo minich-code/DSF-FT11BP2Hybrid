{
 "cells": [
  {
   "cell_type": "code",
   "execution_count": 418,
   "id": "10665413-a6cf-4897-b341-1b88301a0293",
   "metadata": {},
   "outputs": [],
   "source": [
    "#importing libraries\n",
    "import numpy as np\n",
    "import pandas as pd\n",
    "from matplotlib import pyplot as plt\n",
    "import seaborn as sns\n",
    "import statsmodels.api as sm\n",
    "from random import gauss\n",
    "from mpl_toolkits.mplot3d import Axes3D\n",
    "from scipy import stats as stats\n",
    "from sklearn.model_selection import train_test_split, GridSearchCV, RandomizedSearchCV\n",
    "from sklearn.preprocessing import StandardScaler, OneHotEncoder\n",
    "from sklearn.compose import ColumnTransformer\n",
    "from sklearn.pipeline import Pipeline\n",
    "from sklearn.linear_model import LogisticRegression\n",
    "from sklearn.metrics import accuracy_score, precision_score, recall_score, f1_score, roc_auc_score, classification_report,roc_curve, auc\n",
    "from scipy.stats import uniform\n",
    "%matplotlib inline"
   ]
  },
  {
   "cell_type": "code",
   "execution_count": 419,
   "id": "19e1de44-118f-4e5b-935f-2106d74fdf50",
   "metadata": {},
   "outputs": [
    {
     "name": "stdout",
     "output_type": "stream",
     "text": [
      "['anagrams', 'anscombe', 'attention', 'brain_networks', 'car_crashes', 'diamonds', 'dots', 'dowjones', 'exercise', 'flights', 'fmri', 'geyser', 'glue', 'healthexp', 'iris', 'mpg', 'penguins', 'planets', 'seaice', 'taxis', 'tips', 'titanic', 'anagrams', 'anagrams', 'anscombe', 'anscombe', 'attention', 'attention', 'brain_networks', 'brain_networks', 'car_crashes', 'car_crashes', 'diamonds', 'diamonds', 'dots', 'dots', 'dowjones', 'dowjones', 'exercise', 'exercise', 'flights', 'flights', 'fmri', 'fmri', 'geyser', 'geyser', 'glue', 'glue', 'healthexp', 'healthexp', 'iris', 'iris', 'mpg', 'mpg', 'penguins', 'penguins', 'planets', 'planets', 'seaice', 'seaice', 'taxis', 'taxis', 'tips', 'tips', 'titanic', 'titanic', 'anagrams', 'anscombe', 'attention', 'brain_networks', 'car_crashes', 'diamonds', 'dots', 'dowjones', 'exercise', 'flights', 'fmri', 'geyser', 'glue', 'healthexp', 'iris', 'mpg', 'penguins', 'planets', 'seaice', 'taxis', 'tips', 'titanic']\n"
     ]
    }
   ],
   "source": [
    "print(sns.get_dataset_names())"
   ]
  },
  {
   "cell_type": "code",
   "execution_count": 420,
   "id": "7b82901a-a0a2-4620-a2fa-70e7d8437287",
   "metadata": {},
   "outputs": [
    {
     "data": {
      "text/html": [
       "<div>\n",
       "<style scoped>\n",
       "    .dataframe tbody tr th:only-of-type {\n",
       "        vertical-align: middle;\n",
       "    }\n",
       "\n",
       "    .dataframe tbody tr th {\n",
       "        vertical-align: top;\n",
       "    }\n",
       "\n",
       "    .dataframe thead th {\n",
       "        text-align: right;\n",
       "    }\n",
       "</style>\n",
       "<table border=\"1\" class=\"dataframe\">\n",
       "  <thead>\n",
       "    <tr style=\"text-align: right;\">\n",
       "      <th></th>\n",
       "      <th>survived</th>\n",
       "      <th>pclass</th>\n",
       "      <th>sex</th>\n",
       "      <th>age</th>\n",
       "      <th>sibsp</th>\n",
       "      <th>parch</th>\n",
       "      <th>fare</th>\n",
       "      <th>embarked</th>\n",
       "      <th>class</th>\n",
       "      <th>who</th>\n",
       "      <th>adult_male</th>\n",
       "      <th>deck</th>\n",
       "      <th>embark_town</th>\n",
       "      <th>alive</th>\n",
       "      <th>alone</th>\n",
       "    </tr>\n",
       "  </thead>\n",
       "  <tbody>\n",
       "    <tr>\n",
       "      <th>0</th>\n",
       "      <td>0</td>\n",
       "      <td>3</td>\n",
       "      <td>male</td>\n",
       "      <td>22.0</td>\n",
       "      <td>1</td>\n",
       "      <td>0</td>\n",
       "      <td>7.2500</td>\n",
       "      <td>S</td>\n",
       "      <td>Third</td>\n",
       "      <td>man</td>\n",
       "      <td>True</td>\n",
       "      <td>NaN</td>\n",
       "      <td>Southampton</td>\n",
       "      <td>no</td>\n",
       "      <td>False</td>\n",
       "    </tr>\n",
       "    <tr>\n",
       "      <th>1</th>\n",
       "      <td>1</td>\n",
       "      <td>1</td>\n",
       "      <td>female</td>\n",
       "      <td>38.0</td>\n",
       "      <td>1</td>\n",
       "      <td>0</td>\n",
       "      <td>71.2833</td>\n",
       "      <td>C</td>\n",
       "      <td>First</td>\n",
       "      <td>woman</td>\n",
       "      <td>False</td>\n",
       "      <td>C</td>\n",
       "      <td>Cherbourg</td>\n",
       "      <td>yes</td>\n",
       "      <td>False</td>\n",
       "    </tr>\n",
       "    <tr>\n",
       "      <th>2</th>\n",
       "      <td>1</td>\n",
       "      <td>3</td>\n",
       "      <td>female</td>\n",
       "      <td>26.0</td>\n",
       "      <td>0</td>\n",
       "      <td>0</td>\n",
       "      <td>7.9250</td>\n",
       "      <td>S</td>\n",
       "      <td>Third</td>\n",
       "      <td>woman</td>\n",
       "      <td>False</td>\n",
       "      <td>NaN</td>\n",
       "      <td>Southampton</td>\n",
       "      <td>yes</td>\n",
       "      <td>True</td>\n",
       "    </tr>\n",
       "    <tr>\n",
       "      <th>3</th>\n",
       "      <td>1</td>\n",
       "      <td>1</td>\n",
       "      <td>female</td>\n",
       "      <td>35.0</td>\n",
       "      <td>1</td>\n",
       "      <td>0</td>\n",
       "      <td>53.1000</td>\n",
       "      <td>S</td>\n",
       "      <td>First</td>\n",
       "      <td>woman</td>\n",
       "      <td>False</td>\n",
       "      <td>C</td>\n",
       "      <td>Southampton</td>\n",
       "      <td>yes</td>\n",
       "      <td>False</td>\n",
       "    </tr>\n",
       "    <tr>\n",
       "      <th>4</th>\n",
       "      <td>0</td>\n",
       "      <td>3</td>\n",
       "      <td>male</td>\n",
       "      <td>35.0</td>\n",
       "      <td>0</td>\n",
       "      <td>0</td>\n",
       "      <td>8.0500</td>\n",
       "      <td>S</td>\n",
       "      <td>Third</td>\n",
       "      <td>man</td>\n",
       "      <td>True</td>\n",
       "      <td>NaN</td>\n",
       "      <td>Southampton</td>\n",
       "      <td>no</td>\n",
       "      <td>True</td>\n",
       "    </tr>\n",
       "  </tbody>\n",
       "</table>\n",
       "</div>"
      ],
      "text/plain": [
       "   survived  pclass     sex   age  sibsp  parch     fare embarked  class  \\\n",
       "0         0       3    male  22.0      1      0   7.2500        S  Third   \n",
       "1         1       1  female  38.0      1      0  71.2833        C  First   \n",
       "2         1       3  female  26.0      0      0   7.9250        S  Third   \n",
       "3         1       1  female  35.0      1      0  53.1000        S  First   \n",
       "4         0       3    male  35.0      0      0   8.0500        S  Third   \n",
       "\n",
       "     who  adult_male deck  embark_town alive  alone  \n",
       "0    man        True  NaN  Southampton    no  False  \n",
       "1  woman       False    C    Cherbourg   yes  False  \n",
       "2  woman       False  NaN  Southampton   yes   True  \n",
       "3  woman       False    C  Southampton   yes  False  \n",
       "4    man        True  NaN  Southampton    no   True  "
      ]
     },
     "execution_count": 420,
     "metadata": {},
     "output_type": "execute_result"
    }
   ],
   "source": [
    "titanic_df = sns.load_dataset('titanic')\n",
    "titanic_df.head()"
   ]
  },
  {
   "cell_type": "code",
   "execution_count": 421,
   "id": "3d49efa3-ed55-4e10-99e6-8492d7da6e86",
   "metadata": {},
   "outputs": [
    {
     "data": {
      "text/plain": [
       "survived         0\n",
       "pclass           0\n",
       "sex              0\n",
       "age            177\n",
       "sibsp            0\n",
       "parch            0\n",
       "fare             0\n",
       "embarked         2\n",
       "class            0\n",
       "who              0\n",
       "adult_male       0\n",
       "deck           688\n",
       "embark_town      2\n",
       "alive            0\n",
       "alone            0\n",
       "dtype: int64"
      ]
     },
     "execution_count": 421,
     "metadata": {},
     "output_type": "execute_result"
    }
   ],
   "source": [
    "titanic_df.isna().sum()"
   ]
  },
  {
   "cell_type": "code",
   "execution_count": 422,
   "id": "0f3a3062-d0ef-40d7-a7b1-56e555b96887",
   "metadata": {},
   "outputs": [
    {
     "data": {
      "text/plain": [
       "(891, 15)"
      ]
     },
     "execution_count": 422,
     "metadata": {},
     "output_type": "execute_result"
    }
   ],
   "source": [
    "titanic_df.shape"
   ]
  },
  {
   "cell_type": "code",
   "execution_count": 423,
   "id": "ff58a5b7-9ed4-4291-8acf-5854071a605e",
   "metadata": {},
   "outputs": [],
   "source": [
    "titanic_df.drop('deck', axis=1, inplace=True)\n"
   ]
  },
  {
   "cell_type": "code",
   "execution_count": 424,
   "id": "9b51de82-34d7-4162-88b7-25aa2f4dac83",
   "metadata": {},
   "outputs": [],
   "source": [
    "titanic_df = titanic_df.dropna()"
   ]
  },
  {
   "cell_type": "code",
   "execution_count": 425,
   "id": "ff5ef7ba-187f-4647-a97d-497164bca65d",
   "metadata": {},
   "outputs": [
    {
     "data": {
      "text/plain": [
       "array(['Southampton', 'Cherbourg', 'Queenstown'], dtype=object)"
      ]
     },
     "execution_count": 425,
     "metadata": {},
     "output_type": "execute_result"
    }
   ],
   "source": [
    "titanic_df['embark_town'].unique()"
   ]
  },
  {
   "cell_type": "code",
   "execution_count": 426,
   "id": "fbf43011-aa36-47b0-8949-48e95a26eef2",
   "metadata": {},
   "outputs": [],
   "source": [
    "titanic_df.drop(['fare', 'embarked', 'who', 'adult_male', 'alive', 'sibsp', 'parch', 'class'], axis=1, inplace=True)"
   ]
  },
  {
   "cell_type": "code",
   "execution_count": 427,
   "id": "d70c9817-94a8-4780-8366-f7046319a41c",
   "metadata": {},
   "outputs": [
    {
     "data": {
      "text/html": [
       "<div>\n",
       "<style scoped>\n",
       "    .dataframe tbody tr th:only-of-type {\n",
       "        vertical-align: middle;\n",
       "    }\n",
       "\n",
       "    .dataframe tbody tr th {\n",
       "        vertical-align: top;\n",
       "    }\n",
       "\n",
       "    .dataframe thead th {\n",
       "        text-align: right;\n",
       "    }\n",
       "</style>\n",
       "<table border=\"1\" class=\"dataframe\">\n",
       "  <thead>\n",
       "    <tr style=\"text-align: right;\">\n",
       "      <th></th>\n",
       "      <th>survived</th>\n",
       "      <th>pclass</th>\n",
       "      <th>sex</th>\n",
       "      <th>age</th>\n",
       "      <th>embark_town</th>\n",
       "      <th>alone</th>\n",
       "    </tr>\n",
       "  </thead>\n",
       "  <tbody>\n",
       "    <tr>\n",
       "      <th>0</th>\n",
       "      <td>0</td>\n",
       "      <td>3</td>\n",
       "      <td>male</td>\n",
       "      <td>22.0</td>\n",
       "      <td>Southampton</td>\n",
       "      <td>False</td>\n",
       "    </tr>\n",
       "    <tr>\n",
       "      <th>1</th>\n",
       "      <td>1</td>\n",
       "      <td>1</td>\n",
       "      <td>female</td>\n",
       "      <td>38.0</td>\n",
       "      <td>Cherbourg</td>\n",
       "      <td>False</td>\n",
       "    </tr>\n",
       "    <tr>\n",
       "      <th>2</th>\n",
       "      <td>1</td>\n",
       "      <td>3</td>\n",
       "      <td>female</td>\n",
       "      <td>26.0</td>\n",
       "      <td>Southampton</td>\n",
       "      <td>True</td>\n",
       "    </tr>\n",
       "    <tr>\n",
       "      <th>3</th>\n",
       "      <td>1</td>\n",
       "      <td>1</td>\n",
       "      <td>female</td>\n",
       "      <td>35.0</td>\n",
       "      <td>Southampton</td>\n",
       "      <td>False</td>\n",
       "    </tr>\n",
       "    <tr>\n",
       "      <th>4</th>\n",
       "      <td>0</td>\n",
       "      <td>3</td>\n",
       "      <td>male</td>\n",
       "      <td>35.0</td>\n",
       "      <td>Southampton</td>\n",
       "      <td>True</td>\n",
       "    </tr>\n",
       "  </tbody>\n",
       "</table>\n",
       "</div>"
      ],
      "text/plain": [
       "   survived  pclass     sex   age  embark_town  alone\n",
       "0         0       3    male  22.0  Southampton  False\n",
       "1         1       1  female  38.0    Cherbourg  False\n",
       "2         1       3  female  26.0  Southampton   True\n",
       "3         1       1  female  35.0  Southampton  False\n",
       "4         0       3    male  35.0  Southampton   True"
      ]
     },
     "execution_count": 427,
     "metadata": {},
     "output_type": "execute_result"
    }
   ],
   "source": [
    "titanic_df.head()"
   ]
  },
  {
   "cell_type": "code",
   "execution_count": 428,
   "id": "35b03c0f-53a4-43cb-ab99-36e4517cb446",
   "metadata": {},
   "outputs": [
    {
     "name": "stderr",
     "output_type": "stream",
     "text": [
      "c:\\Users\\Administrator\\anaconda3\\envs\\learn-env\\lib\\site-packages\\seaborn\\_decorators.py:36: FutureWarning: Pass the following variable as a keyword arg: x. From version 0.12, the only valid positional argument will be `data`, and passing other arguments without an explicit keyword will result in an error or misinterpretation.\n",
      "  warnings.warn(\n"
     ]
    },
    {
     "data": {
      "image/png": "[encoded data removed]",
      "text/plain": [
       "<Figure size 432x288 with 1 Axes>"
      ]
     },
     "metadata": {
      "needs_background": "light"
     },
     "output_type": "display_data"
    }
   ],
   "source": [
    "sns.boxplot(titanic_df['age'])\n",
    "plt.show()"
   ]
  },
  {
   "cell_type": "code",
   "execution_count": 429,
   "id": "d5831ea9-10f2-4c52-8162-3f27c2f95f83",
   "metadata": {},
   "outputs": [
    {
     "data": {
      "text/plain": [
       "215"
      ]
     },
     "execution_count": 429,
     "metadata": {},
     "output_type": "execute_result"
    }
   ],
   "source": [
    "titanic_df.duplicated().sum()"
   ]
  },
  {
   "cell_type": "markdown",
   "id": "fee4b9b5-a964-4f77-be49-dbd0b0432b37",
   "metadata": {},
   "source": [
    "## Modelling"
   ]
  },
  {
   "cell_type": "code",
   "execution_count": 430,
   "id": "aedd2641-9d97-4416-aa3f-263f8fbb5d30",
   "metadata": {},
   "outputs": [],
   "source": [
    "from sklearn.preprocessing import OneHotEncoder\n",
    "import pandas as pd\n",
    "\n",
    "# Initialize OneHotEncoder\n",
    "ohe = OneHotEncoder(drop=\"first\", sparse=False)\n",
    "\n",
    "# Fit and transform the categorical columns\n",
    "encoded = ohe.fit_transform(titanic_df[['sex', 'embark_town', 'alone']])\n",
    "\n",
    "# Convert back to DataFrame with correct column names\n",
    "Encoded_df = pd.DataFrame(encoded, columns=ohe.get_feature_names(['sex', 'embark_town', 'alone']))\n",
    "\n",
    "# Drop original columns & add encoded columns\n",
    "titanic_df = titanic_df.drop(columns=['sex', 'embark_town', 'alone']).join(Encoded_df)\n"
   ]
  },
  {
   "cell_type": "code",
   "execution_count": 431,
   "id": "3abecc05-818d-4d7f-b1f1-d37a1fe1ce16",
   "metadata": {},
   "outputs": [
    {
     "data": {
      "text/plain": [
       "survived                     0\n",
       "pclass                       0\n",
       "age                          0\n",
       "sex_male                   148\n",
       "embark_town_Queenstown     148\n",
       "embark_town_Southampton    148\n",
       "alone_True                 148\n",
       "dtype: int64"
      ]
     },
     "execution_count": 431,
     "metadata": {},
     "output_type": "execute_result"
    }
   ],
   "source": [
    "titanic_df.isna().sum()"
   ]
  },
  {
   "cell_type": "code",
   "execution_count": 432,
   "id": "fcccbe44",
   "metadata": {},
   "outputs": [],
   "source": [
    "titanic_df.dropna(inplace=True)"
   ]
  },
  {
   "cell_type": "code",
   "execution_count": 433,
   "id": "f16c617b-c110-4b8f-a40a-64b27cc5be3e",
   "metadata": {},
   "outputs": [
    {
     "data": {
      "text/html": [
       "<div>\n",
       "<style scoped>\n",
       "    .dataframe tbody tr th:only-of-type {\n",
       "        vertical-align: middle;\n",
       "    }\n",
       "\n",
       "    .dataframe tbody tr th {\n",
       "        vertical-align: top;\n",
       "    }\n",
       "\n",
       "    .dataframe thead th {\n",
       "        text-align: right;\n",
       "    }\n",
       "</style>\n",
       "<table border=\"1\" class=\"dataframe\">\n",
       "  <thead>\n",
       "    <tr style=\"text-align: right;\">\n",
       "      <th></th>\n",
       "      <th>survived</th>\n",
       "      <th>pclass</th>\n",
       "      <th>age</th>\n",
       "      <th>sex_male</th>\n",
       "      <th>embark_town_Queenstown</th>\n",
       "      <th>embark_town_Southampton</th>\n",
       "      <th>alone_True</th>\n",
       "    </tr>\n",
       "  </thead>\n",
       "  <tbody>\n",
       "    <tr>\n",
       "      <th>0</th>\n",
       "      <td>0</td>\n",
       "      <td>3</td>\n",
       "      <td>22.0</td>\n",
       "      <td>1.0</td>\n",
       "      <td>0.0</td>\n",
       "      <td>1.0</td>\n",
       "      <td>0.0</td>\n",
       "    </tr>\n",
       "    <tr>\n",
       "      <th>1</th>\n",
       "      <td>1</td>\n",
       "      <td>1</td>\n",
       "      <td>38.0</td>\n",
       "      <td>0.0</td>\n",
       "      <td>0.0</td>\n",
       "      <td>0.0</td>\n",
       "      <td>0.0</td>\n",
       "    </tr>\n",
       "    <tr>\n",
       "      <th>2</th>\n",
       "      <td>1</td>\n",
       "      <td>3</td>\n",
       "      <td>26.0</td>\n",
       "      <td>0.0</td>\n",
       "      <td>0.0</td>\n",
       "      <td>1.0</td>\n",
       "      <td>1.0</td>\n",
       "    </tr>\n",
       "    <tr>\n",
       "      <th>3</th>\n",
       "      <td>1</td>\n",
       "      <td>1</td>\n",
       "      <td>35.0</td>\n",
       "      <td>0.0</td>\n",
       "      <td>0.0</td>\n",
       "      <td>1.0</td>\n",
       "      <td>0.0</td>\n",
       "    </tr>\n",
       "    <tr>\n",
       "      <th>4</th>\n",
       "      <td>0</td>\n",
       "      <td>3</td>\n",
       "      <td>35.0</td>\n",
       "      <td>1.0</td>\n",
       "      <td>0.0</td>\n",
       "      <td>1.0</td>\n",
       "      <td>1.0</td>\n",
       "    </tr>\n",
       "  </tbody>\n",
       "</table>\n",
       "</div>"
      ],
      "text/plain": [
       "   survived  pclass   age  sex_male  embark_town_Queenstown  \\\n",
       "0         0       3  22.0       1.0                     0.0   \n",
       "1         1       1  38.0       0.0                     0.0   \n",
       "2         1       3  26.0       0.0                     0.0   \n",
       "3         1       1  35.0       0.0                     0.0   \n",
       "4         0       3  35.0       1.0                     0.0   \n",
       "\n",
       "   embark_town_Southampton  alone_True  \n",
       "0                      1.0         0.0  \n",
       "1                      0.0         0.0  \n",
       "2                      1.0         1.0  \n",
       "3                      1.0         0.0  \n",
       "4                      1.0         1.0  "
      ]
     },
     "execution_count": 433,
     "metadata": {},
     "output_type": "execute_result"
    }
   ],
   "source": [
    "titanic_df.head()"
   ]
  },
  {
   "cell_type": "code",
   "execution_count": 434,
   "id": "5f6ab958-eb75-418e-83cb-e4dbd8eed849",
   "metadata": {},
   "outputs": [],
   "source": [
    "#spliting the data\n",
    "x = titanic_df.drop(\"survived\", axis=1)\n",
    "y = titanic_df[\"survived\"]"
   ]
  },
  {
   "cell_type": "code",
   "execution_count": 435,
   "id": "3f858e5b-a2c5-44cf-b097-fa95e363e7b0",
   "metadata": {},
   "outputs": [],
   "source": [
    "#split data into train and test\n",
    "x_train,x_test, y_train,y_test = train_test_split(x,y, test_size= 0.2, random_state=42, stratify=y)"
   ]
  },
  {
   "cell_type": "code",
   "execution_count": 436,
   "id": "0400d3d3-2be5-4768-b50c-4d92cfa79f99",
   "metadata": {},
   "outputs": [],
   "source": [
    "#scaling\n",
    "sc = StandardScaler()\n",
    "x_train_sc = sc.fit_transform(x_train)\n",
    "x_test_sc = sc.transform(x_test)"
   ]
  },
  {
   "cell_type": "code",
   "execution_count": 437,
   "id": "2ca58898-474d-4ef2-adde-610ae59cdeab",
   "metadata": {},
   "outputs": [],
   "source": [
    "x_train_sc = pd.DataFrame(x_train_sc)\n",
    "x_test_sc = pd.DataFrame(x_test_sc)\n"
   ]
  },
  {
   "cell_type": "code",
   "execution_count": 438,
   "id": "6554e421-d647-4012-bbab-40f980ddc3af",
   "metadata": {},
   "outputs": [
    {
     "data": {
      "text/plain": [
       "LogisticRegression(random_state=42)"
      ]
     },
     "execution_count": 438,
     "metadata": {},
     "output_type": "execute_result"
    }
   ],
   "source": [
    "#Build the model\n",
    "base_model = LogisticRegression(random_state=42)\n",
    "base_model.fit(x_train_sc, y_train)"
   ]
  },
  {
   "cell_type": "code",
   "execution_count": 439,
   "id": "b6952316",
   "metadata": {},
   "outputs": [],
   "source": [
    "# Evaluate base model\n",
    "y_pred = base_model.predict(x_test_sc)\n",
    "y_pred_proba = base_model.predict_proba(x_test_sc)[:, 1]"
   ]
  },
  {
   "cell_type": "code",
   "execution_count": 440,
   "id": "81b7ee7c",
   "metadata": {},
   "outputs": [
    {
     "name": "stdout",
     "output_type": "stream",
     "text": [
      "1\n",
      "0\n"
     ]
    }
   ],
   "source": [
    "print(y[1])\n",
    "print(y_pred[1])\n"
   ]
  },
  {
   "cell_type": "markdown",
   "id": "9140e755",
   "metadata": {},
   "source": [
    "### **Why Use y_pred_proba?**\n",
    "1. It’s useful for ROC-AUC calculation, as ROC curves work with probability scores rather than hard classifications.\n",
    "2. It allows threshold tuning—you can adjust the probability threshold for deciding survival (e.g., predicting survival if p > 0.6 instead of 0.5)."
   ]
  },
  {
   "cell_type": "markdown",
   "id": "589126cc",
   "metadata": {},
   "source": [
    "## Metrics"
   ]
  },
  {
   "cell_type": "code",
   "execution_count": 441,
   "id": "ff8aab62-31cd-42b1-b3cd-539f5490f898",
   "metadata": {},
   "outputs": [
    {
     "name": "stdout",
     "output_type": "stream",
     "text": [
      "Base Model Metrics:\n",
      " {'Accuracy': 0.69, 'Precision': 1, 'Recall': 0.59, 'F1 Score': 0.61, 'ROC AUC': 0.74}\n",
      "              precision    recall  f1-score   support\n",
      "\n",
      "           0       0.73      0.76      0.74        67\n",
      "           1       0.63      0.59      0.61        46\n",
      "\n",
      "    accuracy                           0.69       113\n",
      "   macro avg       0.68      0.67      0.68       113\n",
      "weighted avg       0.69      0.69      0.69       113\n",
      "\n"
     ]
    },
    {
     "name": "stderr",
     "output_type": "stream",
     "text": [
      "c:\\Users\\Administrator\\anaconda3\\envs\\learn-env\\lib\\site-packages\\sklearn\\utils\\validation.py:67: FutureWarning: Pass labels=2 as keyword args. From version 0.25 passing these as positional arguments will result in an error\n",
      "  warnings.warn(\"Pass {} as keyword args. From version 0.25 \"\n"
     ]
    }
   ],
   "source": [
    "base_metrics = {\n",
    "    'Accuracy': round(accuracy_score(y_test, y_pred),2),\n",
    "    'Precision': round(precision_score(y_test, y_pred,2)),\n",
    "    'Recall': round(recall_score(y_test, y_pred),2),\n",
    "    'F1 Score': round(f1_score(y_test, y_pred),2),\n",
    "    'ROC AUC': round(roc_auc_score(y_test, y_pred_proba),2 )\n",
    "}\n",
    "print(\"Base Model Metrics:\\n\", base_metrics)\n",
    "\n",
    "print(classification_report(y_test, y_pred))"
   ]
  },
  {
   "cell_type": "markdown",
   "id": "0cbfa721",
   "metadata": {},
   "source": [
    "#### **Accuracy** (0.6903 or ~69%)\n",
    "This means the model correctly predicts survival for about 69% of passengers in the test set.\n",
    "While accuracy is a good baseline metric, it may be misleading if the dataset is imbalanced.\n",
    "Precision (0.6279 or ~63%)\n",
    "\n",
    "#### **Precision**\n",
    "A precision of ~63% means that when the model predicts survival, it's correct about 63% of the time.\n",
    "Higher precision is desirable when false positives (predicting survival when the person actually didn’t survive) are costly.\n",
    "Recall (0.5869 or ~59%)\n",
    "\n",
    "#### **Recall**\n",
    "At ~59%, this means the model captures about 59% of all actual survivors.\n",
    "If recall is low, it means the model is missing many actual survivors (false negatives).\n",
    "F1 Score (0.6067 or ~61%)\n",
    "\n",
    "#### **The F1 Score.**\n",
    "A score of ~61% suggests a moderate balance but room for improvement.\n",
    "If survival prediction is critical, you might want to optimize for F1 score instead of just accuracy.\n",
    "\n",
    "#### **ROC AUC Score (0.7443 or ~74%)**\n",
    "\n",
    "Measures the model’s ability to distinguish between survivors and non-survivors.\n",
    "A 74% score is decent but suggests the model is not highly confident in its classifications.\n",
    "Closer to 1.0 is better, while 0.5 would mean the model is performing no better than random guessing."
   ]
  },
  {
   "cell_type": "code",
   "execution_count": 442,
   "id": "af8271e2",
   "metadata": {},
   "outputs": [
    {
     "data": {
      "image/png": "[encoded data removed]",
      "text/plain": [
       "<Figure size 576x432 with 1 Axes>"
      ]
     },
     "metadata": {
      "needs_background": "light"
     },
     "output_type": "display_data"
    }
   ],
   "source": [
    "# Compute ROC curve\n",
    "fpr, tpr, thresholds = roc_curve(y_test, y_pred_proba)  # Use probability predictions from the best model\n",
    "roc_auc = auc(fpr, tpr)  # Compute AUC score\n",
    "\n",
    "# Plot ROC curve\n",
    "plt.figure(figsize=(8, 6))\n",
    "plt.plot(fpr, tpr, color='blue', lw=2, label=f'ROC Curve (AUC = {roc_auc:.2f})')\n",
    "plt.plot([0, 1], [0, 1], color='grey', linestyle='--')  # Dashed diagonal line (random classifier)\n",
    "plt.xlim([0.0, 1.0])\n",
    "plt.ylim([0.0, 1.05])\n",
    "plt.xlabel('False Positive Rate (FPR)')\n",
    "plt.ylabel('True Positive Rate (TPR)')\n",
    "plt.title('Receiver Operating Characteristic (ROC) Curve')\n",
    "plt.legend(loc=\"lower right\")\n",
    "plt.show()"
   ]
  },
  {
   "cell_type": "code",
   "execution_count": 443,
   "id": "63f315d9-f1ac-4f6f-b3f7-c27c87a2b97f",
   "metadata": {},
   "outputs": [],
   "source": [
    "# Compute confusion matrix\n",
    "confm=confusion_matrix(y_test, y_pred)"
   ]
  },
  {
   "cell_type": "code",
   "execution_count": 444,
   "id": "57f71e05",
   "metadata": {},
   "outputs": [
    {
     "data": {
      "image/png": "[encoded data removed]",
      "text/plain": [
       "<Figure size 720x720 with 2 Axes>"
      ]
     },
     "metadata": {
      "needs_background": "light"
     },
     "output_type": "display_data"
    }
   ],
   "source": [
    "# Plot confusion matrix as a heatmap\n",
    "plt.figure(figsize=(10,10))\n",
    "sns.heatmap(confm, annot=True, fmt=\"d\", cmap=\"Blues\", xticklabels=[\"Not Survived\", \"Survived\"], yticklabels=[\"Not Survived\", \"Survived\"])\n",
    "plt.xlabel(\"Predicted Label\")\n",
    "plt.ylabel(\"True Label\")\n",
    "plt.title(\"Confusion Matrix\")\n",
    "plt.show()"
   ]
  },
  {
   "cell_type": "markdown",
   "id": "7704cc16",
   "metadata": {},
   "source": [
    "# Hyperparameter Tuning"
   ]
  },
  {
   "cell_type": "markdown",
   "id": "a4a83cb0",
   "metadata": {},
   "source": [
    "## GridsearchCV"
   ]
  },
  {
   "cell_type": "code",
   "execution_count": 445,
   "id": "ab318a29",
   "metadata": {},
   "outputs": [],
   "source": [
    "# Hyperparameter tuning with GridSearchCV\n",
    "param_grid = {\n",
    "    'C': [0.001, 0.01, 0.1, 1, 10, 100],\n",
    "    'solver': ['liblinear', 'lbfgs', 'newton-cg', 'sag', 'saga']\n",
    "}"
   ]
  },
  {
   "cell_type": "code",
   "execution_count": 446,
   "id": "d236deb5",
   "metadata": {},
   "outputs": [
    {
     "data": {
      "text/plain": [
       "GridSearchCV(cv=5, estimator=LogisticRegression(random_state=42), n_jobs=-1,\n",
       "             param_grid={'C': [0.001, 0.01, 0.1, 1, 10, 100],\n",
       "                         'solver': ['liblinear', 'lbfgs', 'newton-cg', 'sag',\n",
       "                                    'saga']},\n",
       "             scoring='accuracy')"
      ]
     },
     "execution_count": 446,
     "metadata": {},
     "output_type": "execute_result"
    }
   ],
   "source": [
    "# Grid Search CV\n",
    "grid_search = GridSearchCV(LogisticRegression(random_state=42), param_grid, cv=5, scoring='accuracy', n_jobs=-1)\n",
    "grid_search.fit(x_train_sc, y_train)\n"
   ]
  },
  {
   "cell_type": "code",
   "execution_count": 447,
   "id": "e857f492",
   "metadata": {},
   "outputs": [],
   "source": [
    "# Best model after tuning\n",
    "grid_best_model = grid_search.best_estimator_\n",
    "y_pred_tuned = grid_best_model.predict(x_test_sc)\n",
    "y_pred_proba_tuned = grid_best_model.predict_proba(x_test_sc)[:, 1]"
   ]
  },
  {
   "cell_type": "code",
   "execution_count": 448,
   "id": "affe1430",
   "metadata": {},
   "outputs": [
    {
     "name": "stdout",
     "output_type": "stream",
     "text": [
      "1\n",
      "0\n"
     ]
    }
   ],
   "source": [
    "print(y[1])\n",
    "print(y_pred[1])\n"
   ]
  },
  {
   "cell_type": "code",
   "execution_count": 449,
   "id": "5849338e",
   "metadata": {},
   "outputs": [
    {
     "name": "stdout",
     "output_type": "stream",
     "text": [
      "\n",
      "GridSearchCV Tuned Model Metrics:\n",
      " {'Accuracy': 0.69, 'Precision': 1, 'Recall': 0.59, 'F1 Score': 0.61, 'ROC AUC': 0.74}\n",
      "              precision    recall  f1-score   support\n",
      "\n",
      "           0       0.73      0.76      0.74        67\n",
      "           1       0.63      0.59      0.61        46\n",
      "\n",
      "    accuracy                           0.69       113\n",
      "   macro avg       0.68      0.67      0.68       113\n",
      "weighted avg       0.69      0.69      0.69       113\n",
      "\n"
     ]
    },
    {
     "name": "stderr",
     "output_type": "stream",
     "text": [
      "c:\\Users\\Administrator\\anaconda3\\envs\\learn-env\\lib\\site-packages\\sklearn\\utils\\validation.py:67: FutureWarning: Pass labels=2 as keyword args. From version 0.25 passing these as positional arguments will result in an error\n",
      "  warnings.warn(\"Pass {} as keyword args. From version 0.25 \"\n"
     ]
    }
   ],
   "source": [
    "# Evaluate GridSearchCV tuned model \n",
    "tuned_metrics = {\n",
    "     'Accuracy': round(accuracy_score(y_test, y_pred_tuned),2),\n",
    "    'Precision': round(precision_score(y_test, y_pred_tuned,2)),\n",
    "    'Recall': round(recall_score(y_test, y_pred_tuned),2),\n",
    "    'F1 Score': round(f1_score(y_test, y_pred_tuned),2),\n",
    "    'ROC AUC': round(roc_auc_score(y_test, y_pred_proba_tuned),2 )\n",
    "    \n",
    "}\n",
    "\n",
    "print(\"\\nGridSearchCV Tuned Model Metrics:\\n\", tuned_metrics)\n",
    "print(classification_report(y_test, y_pred_tuned))"
   ]
  },
  {
   "cell_type": "markdown",
   "id": "8c5f2bfc",
   "metadata": {},
   "source": [
    "#### **Accuracy** (0.6903 or ~69%)\n",
    "This means the model correctly predicts survival for about 69% of passengers in the test set.\n",
    "While accuracy is a good baseline metric, it may be misleading if the dataset is imbalanced.\n",
    "Precision (0.6279 or ~63%)\n",
    "\n",
    "#### **Precision**\n",
    "A precision of ~63% means that when the model predicts survival, it's correct about 63% of the time.\n",
    "Higher precision is desirable when false positives (predicting survival when the person actually didn’t survive) are costly.\n",
    "Recall (0.5869 or ~59%)\n",
    "\n",
    "#### **Recall**\n",
    "At ~59%, this means the model captures about 59% of all actual survivors.\n",
    "If recall is low, it means the model is missing many actual survivors (false negatives).\n",
    "F1 Score (0.6067 or ~61%)\n",
    "\n",
    "#### **The F1 Score.**\n",
    "A score of ~61% suggests a moderate balance but room for improvement.\n",
    "If survival prediction is critical, you might want to optimize for F1 score instead of just accuracy.\n",
    "\n",
    "#### **ROC AUC Score (0.7443 or ~74%)**\n",
    "\n",
    "Measures the model’s ability to distinguish between survivors and non-survivors.\n",
    "A 74% score is decent but suggests the model is not highly confident in its classifications.\n",
    "Closer to 1.0 is better, while 0.5 would mean the model is performing no better than random guessing."
   ]
  },
  {
   "cell_type": "code",
   "execution_count": 450,
   "id": "ea973267",
   "metadata": {},
   "outputs": [
    {
     "name": "stdout",
     "output_type": "stream",
     "text": [
      "\n",
      "Best Hyperparameters from GridSearchCV: {'C': 0.1, 'solver': 'liblinear'}\n"
     ]
    }
   ],
   "source": [
    "# Print best parameters\n",
    "print(\"\\nBest Hyperparameters from GridSearchCV:\", grid_search.best_params_)"
   ]
  },
  {
   "cell_type": "code",
   "execution_count": 451,
   "id": "7b4331b6",
   "metadata": {},
   "outputs": [
    {
     "data": {
      "image/png": "[encoded data removed]",
      "text/plain": [
       "<Figure size 576x432 with 1 Axes>"
      ]
     },
     "metadata": {
      "needs_background": "light"
     },
     "output_type": "display_data"
    }
   ],
   "source": [
    "# Compute ROC curve\n",
    "fpr_tuned, tpr_tuned, thresholds = roc_curve(y_test, y_pred_proba_tuned)  # Use probability predictions from the best model\n",
    "roc_auc_tuned = auc(fpr, tpr)  # Compute AUC score\n",
    "\n",
    "# Plot ROC curve\n",
    "plt.figure(figsize=(8, 6))\n",
    "plt.plot(fpr_tuned, tpr_tuned, color='blue', lw=2, label=f'ROC Curve (AUC = {roc_auc:.2f})')\n",
    "plt.plot([0, 1], [0, 1], color='grey', linestyle='--')  # Dashed diagonal line (random classifier)\n",
    "plt.xlim([0.0, 1.0])\n",
    "plt.ylim([0.0, 1.05])\n",
    "plt.xlabel('False Positive Rate (FPR)')\n",
    "plt.ylabel('True Positive Rate (TPR)')\n",
    "plt.title('Receiver Operating Characteristic (ROC) Curve')\n",
    "plt.legend(loc=\"lower right\")\n",
    "plt.show()"
   ]
  },
  {
   "cell_type": "code",
   "execution_count": 452,
   "id": "36358cb5",
   "metadata": {},
   "outputs": [
    {
     "data": {
      "image/png": "[encoded data removed]",
      "text/plain": [
       "<Figure size 432x288 with 2 Axes>"
      ]
     },
     "metadata": {
      "needs_background": "light"
     },
     "output_type": "display_data"
    }
   ],
   "source": [
    "# Plot confusion matrix as a heatmap\n",
    "confm_tuned= confusion_matrix(y_test, grid_best_model.predict(x_test_sc))\n",
    "sns.heatmap(confm_tuned, annot=True, fmt='d', cmap='Blues')\n",
    "plt.xlabel('Predicted')\n",
    "plt.ylabel('Actual')\n",
    "plt.title('GridsearchCV Confusion matrix')\n",
    "plt.show()"
   ]
  },
  {
   "cell_type": "markdown",
   "id": "aa0852af",
   "metadata": {},
   "source": [
    "## RandomizedSearchCV"
   ]
  },
  {
   "cell_type": "code",
   "execution_count": 453,
   "id": "0bb9fec7",
   "metadata": {},
   "outputs": [
    {
     "data": {
      "text/plain": [
       "RandomizedSearchCV(cv=5, estimator=LogisticRegression(random_state=42),\n",
       "                   n_jobs=-1,\n",
       "                   param_distributions={'C': [0.001, 0.01, 0.1, 1, 10, 100],\n",
       "                                        'solver': ['liblinear', 'lbfgs',\n",
       "                                                   'newton-cg', 'sag',\n",
       "                                                   'saga']},\n",
       "                   random_state=42, scoring='accuracy')"
      ]
     },
     "execution_count": 453,
     "metadata": {},
     "output_type": "execute_result"
    }
   ],
   "source": [
    "# Hyperparameter tuning with RandomizedSearchCV\n",
    "random_search = RandomizedSearchCV(LogisticRegression(random_state=42), param_grid, cv=5, scoring='accuracy', n_iter=10, n_jobs=-1, random_state=42)\n",
    "random_search.fit(x_train_sc, y_train)"
   ]
  },
  {
   "cell_type": "code",
   "execution_count": 454,
   "id": "10987313",
   "metadata": {},
   "outputs": [],
   "source": [
    "# Best model after RandomizedSearchCV tuning\n",
    "random_best_model = random_search.best_estimator_\n",
    "y_pred_random = random_best_model.predict(x_test_sc)\n",
    "y_pred_proba_random = random_best_model.predict_proba(x_test_sc)[:, 1]\n"
   ]
  },
  {
   "cell_type": "code",
   "execution_count": 455,
   "id": "4a25c47b",
   "metadata": {},
   "outputs": [
    {
     "name": "stdout",
     "output_type": "stream",
     "text": [
      "1\n",
      "0\n"
     ]
    }
   ],
   "source": [
    "print(y[1])\n",
    "print(y_pred[1])\n"
   ]
  },
  {
   "cell_type": "code",
   "execution_count": 456,
   "id": "fb4391ad",
   "metadata": {},
   "outputs": [
    {
     "name": "stdout",
     "output_type": "stream",
     "text": [
      "\n",
      "RandomizedSearchCV Tuned Model Metrics:\n",
      " {'Accuracy': 0.71, 'Precision': 1, 'Recall': 0.59, 'F1 Score': 0.62, 'ROC AUC': 0.74}\n",
      "              precision    recall  f1-score   support\n",
      "\n",
      "           0       0.74      0.79      0.76        67\n",
      "           1       0.66      0.59      0.62        46\n",
      "\n",
      "    accuracy                           0.71       113\n",
      "   macro avg       0.70      0.69      0.69       113\n",
      "weighted avg       0.70      0.71      0.70       113\n",
      "\n"
     ]
    },
    {
     "name": "stderr",
     "output_type": "stream",
     "text": [
      "c:\\Users\\Administrator\\anaconda3\\envs\\learn-env\\lib\\site-packages\\sklearn\\utils\\validation.py:67: FutureWarning: Pass labels=3 as keyword args. From version 0.25 passing these as positional arguments will result in an error\n",
      "  warnings.warn(\"Pass {} as keyword args. From version 0.25 \"\n"
     ]
    }
   ],
   "source": [
    "# Evaluate RandomizedSearchCV tuned model\n",
    "random_metrics = {\n",
    "   'Accuracy': round(accuracy_score(y_test, y_pred_random),2),\n",
    "    'Precision': round(precision_score(y_test, y_pred_random,3)),\n",
    "    'Recall': round(recall_score(y_test, y_pred_random),2),\n",
    "    'F1 Score': round(f1_score(y_test, y_pred_random),2),\n",
    "    'ROC AUC': round(roc_auc_score(y_test, y_pred_proba_random),2 )\n",
    "}\n",
    "\n",
    "print(\"\\nRandomizedSearchCV Tuned Model Metrics:\\n\", random_metrics)\n",
    "print(classification_report(y_test,y_pred_random))"
   ]
  },
  {
   "cell_type": "markdown",
   "id": "94b0c0bc",
   "metadata": {},
   "source": [
    "#### **Accuracy (0.7079 or ~71%)**\n",
    "\n",
    "The model correctly classifies 71% of passengers as survivors or non-survivors.\n",
    "This is an improvement from the previous ~69%, showing a positive impact of hyperparameter tuning.\n",
    "\n",
    "#### **Precision (0.6585 or ~66%)**\n",
    "\n",
    "Precision has increased slightly (~66% vs. ~63% before), meaning fewer false positives.\n",
    "The model is better at predicting actual survivors when it says someone survived.\n",
    "\n",
    "#### **Recall (0.5869 or ~59%)**\n",
    "\n",
    "The recall remains the same (~59%), meaning the model is still missing some actual survivors.\n",
    "If the goal is to capture more survivors, recall should be improved.\n",
    "\n",
    "#### **F1 Score (0.6207 or ~62%)**\n",
    "\n",
    "A moderate improvement (~62% vs. ~61%), indicating better balance between precision and recall.\n",
    "\n",
    "#### **ROC AUC (0.7417 or ~74%)**\n",
    "\n",
    "A very slight decrease compared to before (0.7443), but still a decent measure of how well the model distinguishes between survivors and non-survivors.\n",
    "The change is minimal and within expected variations."
   ]
  },
  {
   "cell_type": "code",
   "execution_count": 457,
   "id": "2bb7b733",
   "metadata": {},
   "outputs": [
    {
     "data": {
      "image/png": "[encoded data removed]",
      "text/plain": [
       "<Figure size 576x432 with 1 Axes>"
      ]
     },
     "metadata": {
      "needs_background": "light"
     },
     "output_type": "display_data"
    }
   ],
   "source": [
    "# Compute ROC curve\n",
    "fpr_random, tpr_random, thresholds = roc_curve(y_test, y_pred_proba_random)  # Use probability predictions from the best model\n",
    "roc_auc_random = auc(fpr_random, tpr_random)  # Compute AUC score\n",
    "\n",
    "# Plot ROC curve\n",
    "plt.figure(figsize=(8, 6))\n",
    "plt.plot(fpr_random, tpr_random, color='blue', lw=2, label=f'ROC Curve (AUC = {roc_auc:.2f})')\n",
    "plt.plot([0, 1], [0, 1], color='grey', linestyle='--')  # Dashed diagonal line (random classifier)\n",
    "plt.xlim([0.0, 1.0])\n",
    "plt.ylim([0.0, 1.05])\n",
    "plt.xlabel('False Positive Rate (FPR)')\n",
    "plt.ylabel('True Positive Rate (TPR)')\n",
    "plt.title('Receiver Operating Characteristic (ROC) Curve')\n",
    "plt.legend(loc=\"lower right\")\n",
    "plt.show()"
   ]
  },
  {
   "cell_type": "code",
   "execution_count": 458,
   "id": "7a80fa13",
   "metadata": {},
   "outputs": [
    {
     "data": {
      "image/png": "[encoded data removed]",
      "text/plain": [
       "<Figure size 720x720 with 2 Axes>"
      ]
     },
     "metadata": {
      "needs_background": "light"
     },
     "output_type": "display_data"
    }
   ],
   "source": [
    "# Plot confusion matrix as a heatmap\n",
    "\n",
    "confm_random= confusion_matrix(y_test, random_best_model.predict(x_test_sc))\n",
    "plt.figure(figsize=(10,10))\n",
    "sns.heatmap(confm_random, annot=True, fmt='d', cmap='Blues')\n",
    "plt.xlabel('Predicted')\n",
    "plt.ylabel('Actual')\n",
    "plt.title('RandomizedearchCV Confusion matrix')\n",
    "plt.show()"
   ]
  },
  {
   "cell_type": "code",
   "execution_count": 459,
   "id": "850ccb3a",
   "metadata": {},
   "outputs": [
    {
     "data": {
      "image/png": "[encoded data removed]",
      "text/plain": [
       "<Figure size 576x432 with 1 Axes>"
      ]
     },
     "metadata": {
      "needs_background": "light"
     },
     "output_type": "display_data"
    }
   ],
   "source": [
    "\n",
    "\n",
    "# Plot all ROC curves\n",
    "plt.figure(figsize=(8, 6))\n",
    "plt.plot(fpr, tpr, color='red', lw=2, linestyle='--', label=f'Base Model (AUC = {roc_auc:.2f})')\n",
    "plt.plot(fpr_tuned, tpr_tuned, color='blue', lw=2, label=f'grid Model (AUC = {roc_auc_tuned:.2f})')\n",
    "plt.plot(fpr_random, tpr_random, color='green', lw=2, label=f'randomized Model (AUC = {roc_auc_random:.2f})')\n",
    "\n",
    "# Plot diagonal reference line\n",
    "plt.plot([0, 1], [0, 1], color='grey', linestyle='--')\n",
    "\n",
    "# Labels and title\n",
    "plt.xlim([0.0, 1.0])\n",
    "plt.ylim([0.0, 1.05])\n",
    "plt.xlabel('False Positive Rate (FPR)')\n",
    "plt.ylabel('True Positive Rate (TPR)')\n",
    "plt.title('Comparison of ROC Curves: Base vs Tuned Model')\n",
    "plt.legend(loc=\"lower right\")\n",
    "plt.show()\n"
   ]
  },
  {
   "cell_type": "code",
   "execution_count": 460,
   "id": "2963c6f8",
   "metadata": {},
   "outputs": [
    {
     "name": "stdout",
     "output_type": "stream",
     "text": [
      "\n",
      "Best Hyperparameters from RandomizedSearchCV: {'solver': 'newton-cg', 'C': 0.1}\n"
     ]
    }
   ],
   "source": [
    "# Print best parameters\n",
    "print(\"\\nBest Hyperparameters from RandomizedSearchCV:\", random_search.best_params_)\n"
   ]
  },
  {
   "cell_type": "code",
   "execution_count": 461,
   "id": "bd00c0fa",
   "metadata": {},
   "outputs": [
    {
     "name": "stdout",
     "output_type": "stream",
     "text": [
      "\n",
      "Feature Importance (Logistic Regression Coefficients):\n",
      "\n",
      "                   Feature  Coefficient\n",
      "4  embark_town_Southampton     0.085766\n",
      "5               alone_True    -0.021279\n",
      "3   embark_town_Queenstown    -0.056279\n",
      "2                 sex_male    -0.185748\n",
      "1                      age    -0.446349\n",
      "0                   pclass    -0.864588\n"
     ]
    }
   ],
   "source": [
    "# Ensure encoder is fitted\n",
    "ohe.fit(x_train[categorical_features])  \n",
    "\n",
    "# Get feature names based on sklearn version\n",
    "try:\n",
    "    cat_feature_names = ohe.get_feature_names()\n",
    "except AttributeError:\n",
    "    cat_feature_names = ohe.get_feature_names(categorical_features)  # Use older method\n",
    "\n",
    "# Combine numerical and categorical feature names\n",
    "all_feature_names = np.concatenate((numerical_features, cat_feature_names))\n",
    "\n",
    "# Extract coefficients from the best logistic regression model\n",
    "best_model = grid_best_model  # Use GridSearchCV best model (or random_best_model)\n",
    "coefficients = best_model.coef_.flatten()\n",
    "\n",
    "# Create a DataFrame to display feature importance\n",
    "coef_df = pd.DataFrame({'Feature': all_feature_names, 'Coefficient': coefficients})\n",
    "coef_df = coef_df.sort_values(by='Coefficient', ascending=False)  # Sort by impact\n",
    "\n",
    "# Display the feature importance\n",
    "print(\"\\nFeature Importance (Logistic Regression Coefficients):\\n\")\n",
    "print(coef_df)\n"
   ]
  },
  {
   "cell_type": "markdown",
   "id": "ad836b2b",
   "metadata": {},
   "source": [
    "#### **Feature-by-Feature Analysis**\n",
    "\n",
    "##### pclass (-0.864588)\n",
    "\n",
    "Strong negative impact on survival → Higher class (1st class) passengers had better survival rates, while lower-class passengers (3rd class) were at much higher risk.\n",
    "Since it is negative, passengers in higher-numbered classes (2nd and 3rd) had lower chances of survival.\n",
    "\n",
    "##### age (-0.446349)\n",
    "\n",
    "Negative coefficient → Older passengers were less likely to survive.\n",
    "This aligns with historical data, where younger individuals (especially children) were prioritized for rescue.\n",
    "\n",
    "##### sex_male (-0.185748)\n",
    "\n",
    "Negative coefficient → Being male decreases the probability of survival.\n",
    "This is expected, as the Titanic followed a \"women and children first\" policy during evacuation.\n",
    "Female passengers had a significantly higher survival rate.\n",
    "\n",
    "##### embark_town_Queenstown (-0.056279)\n",
    "\n",
    "Slight negative effect → Passengers who embarked from Queenstown had a lower survival rate than those from other towns.\n",
    "\n",
    "##### alone_True (-0.021279)\n",
    "\n",
    "Negative but small impact → Traveling alone slightly decreased survival chances.\n",
    "People traveling with family may have had better support or prioritized spots in lifeboats.\n",
    "\n",
    "##### embark_town_Southampton (+0.085766)\n",
    "\n",
    "Positive coefficient → Slightly increases survival probability.\n",
    "This could suggest that passengers from Southampton had slightly better accommodations or travel conditions."
   ]
  },
  {
   "cell_type": "code",
   "execution_count": 462,
   "id": "99292b9b",
   "metadata": {},
   "outputs": [
    {
     "data": {
      "image/png": "[encoded data removed]",
      "text/plain": [
       "<Figure size 720x432 with 1 Axes>"
      ]
     },
     "metadata": {
      "needs_background": "light"
     },
     "output_type": "display_data"
    }
   ],
   "source": [
    "# Plot feature importance\n",
    "plt.figure(figsize=(10, 6))\n",
    "sns.barplot(x=coef_df['Coefficient'], y=coef_df['Feature'])\n",
    "plt.axvline(x=0, color='black', linestyle='--')  # Reference line at 0\n",
    "plt.xlabel(\"Coefficient Value\")\n",
    "plt.ylabel(\"Feature\")\n",
    "plt.title(\"Feature Importance in Logistic Regression Model\")\n",
    "plt.show()"
   ]
  },
  {
   "cell_type": "code",
   "execution_count": null,
   "id": "fa632070",
   "metadata": {},
   "outputs": [],
   "source": []
  }
 ],
 "metadata": {
  "kernelspec": {
   "display_name": "Python (learn-env)",
   "language": "python",
   "name": "learn-env"
  },
  "language_info": {
   "codemirror_mode": {
    "name": "ipython",
    "version": 3
   },
   "file_extension": ".py",
   "mimetype": "text/x-python",
   "name": "python",
   "nbconvert_exporter": "python",
   "pygments_lexer": "ipython3",
   "version": "3.8.5"
  }
 },
 "nbformat": 4,
 "nbformat_minor": 5
}
