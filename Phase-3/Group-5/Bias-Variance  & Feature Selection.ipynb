{
 "cells": [
  {
   "cell_type": "markdown",
   "id": "2535b5f9-b7dd-4ffe-9c72-664bf534a0b2",
   "metadata": {},
   "source": [
    "# Bias-Variance Tradeoff "
   ]
  },
  {
   "cell_type": "markdown",
   "id": "7cfc7490-ee8f-4f74-a196-ffae5b2f7b17",
   "metadata": {},
   "source": [
    "We can extend linear models by adding iteraction effects and polynomial terms\n",
    "\n",
    "Interaction terms capture the combined effect of two (or more) variables on the target variable.\n",
    "    \n",
    "Polynomial terms allow for non-linear relationships in a linear model.\n",
    "\n",
    "Adding iteraction effects and polynomial terms not only makes the model more complex but also potentialy harm the model perfomance when making predictions"
   ]
  },
  {
   "cell_type": "markdown",
   "id": "7017f8fe-e06c-44bb-bf82-b48c85d31384",
   "metadata": {},
   "source": [
    "## Definition of Bias-Variance Tradeoff\n",
    "\n",
    "\n",
    "Bias-Variance tradeoff is the balance between a model's performance on the training data and performance making predictions.\n",
    "\n",
    "### Bias:\n",
    "Error due to overly simplistic assumptions in the learning algorithm. High bias can cause an algorithm to miss relevant relations between features and target outputs (underfitting).\n",
    "\n",
    "### Variance: \n",
    "Error due to the model's sensitivity to small fluctuations in the training set. High variance can cause overfitting, where the model captures noise instead of the underlying pattern.\n",
    "\n",
    "The goal is to find a balance where both bias and variance are minimized, leading to better generalization on unseen data."
   ]
  },
  {
   "cell_type": "markdown",
   "id": "8e2b4c62-fd86-45c1-a0a1-5514acd28176",
   "metadata": {},
   "source": [
    "## Methods to Address Underfitting(Model too simple)\n",
    "\n",
    "### **1. Increase Model Complexity**\n",
    "\n",
    "When a model is too simple, it may be unable to capture the underlying patterns in the data, leading to underfitting.\n",
    "Increasing the complexity of the model allows it to **better fit the data**.\n",
    "\n",
    "#### How to Apply:\n",
    "\n",
    "- **Deepen Neural Networks**: Add more layers or increase the number of neurons in each layer.\n",
    "- **Use Non-Linear Models**: Shift from linear models (like linear regression) to more powerful, flexible models such as **polynomial regression** or  **decision trees**.\n",
    "- **Ensemble Models**: Use **Random Forests** or **Gradient Boosting** (e.g., XGBoost), which combine multiple weak learners to form a more powerful model.\n",
    "\n",
    "### **2. Train for More Epochs (Neural Networks)**\n",
    "\n",
    "In machine learning, underfitting can occur when the model has not been trained long enough to fully learn the data's patterns. This is particularly relevant for deep learning models that may need more time to converge.\n",
    "\n",
    "#### How to Apply:\n",
    "\n",
    "- **Increase Epochs**: For neural networks, train the model for additional epochs to allow it to learn the data more thoroughly.\n",
    "- \n",
    "- **Adjust Learning Rate**: Ensure the model isn’t learning too slowly or too quickly by adjusting the learning rate.\n",
    "\n",
    "### **3. Reduce Regularization**\n",
    "\n",
    "Regularization techniques such as **L1 (Lasso)** and **L2 (Ridge)** are designed to prevent overfitting by penalizing large coefficients.\n",
    "\n",
    "However, when regularization is too strong, it can cause **underfitting** by preventing the model from learning adequately.\n",
    "\n",
    "#### How to Apply:\n",
    "- **Decrease Regularization Strength**: Lower the regularization parameter (lambda) for Lasso or Ridge regression, allowing the model to better capture relationships in the data.\n",
    "- **Reduce Dropout in Neural Networks**: Dropout helps prevent overfitting but can also restrict the model’s ability to learn. Decrease dropout rates to allow the network to retain more of its capacity.\n",
    "\n",
    "### **4. Feature Engineering**\n",
    "Feature engineering involves transforming raw data into more meaningful features that help the model make better predictions. Underfitting can occur if important patterns are not captured due to poorly engineered features.\n",
    "\n",
    "#### How to Apply:\n",
    "\n",
    "- **Create Interaction Terms**: Introduce new features that represent interactions between existing features (e.g., multiplying features or combining categorical variables).\n",
    "- \n",
    "- **Polynomial Features**: Add polynomial terms (e.g., \\(x^2\\), \\(x^3\\)) to linear models to capture non-linear relationships.\n",
    "- \n",
    "- **Use Domain Knowledge**: Leverage industry-specific expertise to craft features that reflect critical aspects of the problem.\n",
    "\n",
    "### **5. Use More Training Data**\n",
    "\n",
    "When the model is underfitting, it may not have enough data to learn the underlying patterns. \n",
    "\n",
    "A model that is trained on a small dataset is likely to make overly simplistic assumptions about the data.\n",
    "\n",
    "#### How to Apply:\n",
    "- **Increase Dataset Size**: Collect more real-world data if feasible.\n",
    "- \n",
    "- **Data Augmentation**: For image or text data, apply transformations like rotations, translations, or paraphrasing to artificially increase the size of the dataset.\n",
    "- \n",
    "- **Synthetic Data**: In cases where real data is limited, generating synthetic data can help.\n",
    "\n",
    "### **6. Adjust Model Hyperparameters**\n",
    "Hyperparameters such as the learning rate, batch size, and depth of trees can significantly impact model performance. Incorrect hyperparameter choices may cause underfitting by not allowing the model to learn effectively.\n",
    "\n",
    "#### How to Apply:\n",
    "- **Tuning Model Hyperparameters**: Use techniques like **Grid Search** or **Random Search** to find the optimal set of hyperparameters.\n",
    "- \n",
    "- **Increase Tree Depth**: In decision tree-based models (like **Random Forests**), increase the tree depth or number of estimators to allow more complex patterns to be captured.\n",
    "\n",
    "#### Why it Works:\n",
    "By adjusting hyperparameters, you allow the model to better fit the data, increasing its capacity to learn complex relationships and avoid underfitting.\n",
    "\n",
    "\n",
    "### **7. Use a More Powerful Model**\n",
    "\n",
    "Sometimes the simplest models are not sufficient for the complexity of the data. Underfitting can occur if the model lacks sufficient power or flexibility to capture the patterns in the data.\n",
    "\n",
    "#### How to Apply:\n",
    "- **Upgrade to a More Complex Model**: For instance, if using **linear regression** results in underfitting, consider moving to **decision trees** or **random forests**)**.\n",
    "- \n",
    "- **Use Neural Networks**: When using simpler models, consider switching to more sophisticated **deep learning** architectures, such as **convolutional neural networks (CNNs)** for image data or **recurrent neural networks (RNNs)** for sequential data.\n"
   ]
  },
  {
   "cell_type": "markdown",
   "id": "647f9697-b6f8-4d73-bc00-4176fcef7449",
   "metadata": {},
   "source": [
    "## Methods to Address Overfitting(Model too Complex)\n",
    "\n",
    "### **1. Simplify the Model (Reduce Complexity)**:\n",
    "\n",
    "- Reduce the **number of features** or **parameters** in the model. For instance, in a decision tree, you can **prune** the tree or limit the **depth** of the tree to prevent it from learning noise.\n",
    "\n",
    "- **Dimensionality Reduction**: Techniques like **Principal Component Analysis (PCA)** can reduce the number of features while preserving essential information.\n",
    "  \n",
    "#### **2. Regularization**:\n",
    "\n",
    "- **L1 Regularization (Lasso)** and **L2 Regularization (Ridge)** are powerful techniques to **penalize large coefficients** and thus reduce model complexity.\n",
    "\n",
    "- **Dropout (for Neural Networks)**: A regularization technique used in deep learning that randomly drops units during training to prevent the model from relying too heavily on specific neurons, which helps generalization.\n",
    "\n",
    "#### **3. Cross-Validation**:\n",
    "\n",
    "- Use **k-fold cross-validation** to evaluate the model on different subsets of the data. This helps to **detect overfitting** early by showing if the model is performing well across different validation sets or just memorizing the training set.\n",
    "\n",
    "#### **4. Early Stopping (For Neural Networks)**:\n",
    "\n",
    "- In deep learning, monitor the model’s performance on a validation set. Stop training when the model starts to show signs of overfitting, i.e., when the validation error starts to increase even though the training error continues to decrease.\n",
    "\n",
    "#### **5. Increase Training Data**:\n",
    "\n",
    "- More data can help the model learn more robust patterns and reduce the risk of overfitting.\n",
    "  \n",
    "- **Data Augmentation**: In domains like image classification, creating additional training examples by applying transformations (rotation, scaling, etc.) can help mitigate overfitting.\n",
    "\n",
    "#### **6. Pruning (Decision Trees)**:\n",
    "\n",
    "- In decision tree-based models, pruning helps by **removing branches** that provide little additional value, thus simplifying the model and preventing it from learning too much noise.\n",
    "\n",
    "#### **7. Use Ensemble Methods**:\n",
    "\n",
    "- **Bagging** (Bootstrap Aggregating): Random Forests use bagging to average out predictions across many decision trees, reducing overfitting.\n",
    "  \n",
    "- **Boosting**: Algorithms like **XGBoost** or **LightGBM** iteratively add weak learners, which can help improve performance without overfitting, as long as the model complexity is controlled."
   ]
  },
  {
   "cell_type": "code",
   "execution_count": null,
   "id": "c7415f6f-44e8-40f0-b646-efcd188d9fa7",
   "metadata": {},
   "outputs": [],
   "source": []
  },
  {
   "cell_type": "markdown",
   "id": "d58d5e44-6856-4ec2-bb76-d58618317589",
   "metadata": {},
   "source": [
    "## Feature Selection\n",
    "\n",
    "#### What is Feature Selection?\n",
    "\n",
    "Feature selection is the process of identifying and selecting a subset of the most relevant input features (variables) from a dataset to build machine learning models.\n",
    "\n",
    "#### It aims to:\n",
    "\n",
    "Reduce Overfitting: Remove irrelevant or redundant features that introduce noise.\n",
    "\n",
    "Improve Model Performance: Focus on features that contribute most to the prediction.\n",
    "\n",
    "Speed Up Training: Fewer features = faster computation.\n",
    "\n",
    "Enhance Interpretability: Simplify the model for better understanding.\n",
    "\n",
    "#### Types of Feature Selection\n",
    "\n",
    "#### 1. Domain Knowledge\n",
    "\n",
    "Domain knowledge refers to expert understanding of the problem, industry, or dataset being analyzed.\n",
    "\n",
    "It helps in selecting, engineering, and interpreting features that truly impact the outcome rather than relying solely on automated techniques.\n",
    "\n",
    "##### For example:\n",
    "\n",
    "In manufacturing, an engineer knows that machine vibration patterns can indicate faults before failure.\n",
    "\n",
    "Without domain knowledge, a model may select irrelevant or misleading features, reducing its effectiveness.\n",
    "\n",
    "#### 2. Filter Methods\n",
    "\n",
    "-Carried out as preprocessing step before even running a model\n",
    "\n",
    "-Works by observing characteristics of how variables are related to one another.\n",
    "\n",
    "-Depending on the model used, different metrics are used to determine which features will be dropped and which will be used.\n",
    "\n",
    "-They will return a ‘feature ranking’ that will tell you how features are ordered in relation to another.\n",
    "\n",
    "-They will remove variables considered redundant\n",
    "\n",
    "-The DS will determine the cut-off point which they will keep the top n features, usually determined through cross validation\n",
    "\n",
    "##### Example Techniques:\n",
    "\n",
    "Correlation – Remove highly correlated features (e.g., Pearson correlation).\n",
    "\n",
    "Chi-Square Test – For categorical data.\n",
    "\n",
    "Mutual Information – Measures how much information a feature provides about the target.\n",
    "\n",
    "Best for: Large datasets, quick feature ranking.\n",
    "\n",
    "Downside: Ignores feature interactions.\n",
    "\n",
    "#### 3. Wrapper Methods\n",
    "\n",
    "-They determine the optimal subset of features using different combinations of features to train models and then calculate the performance.\n",
    "\n",
    "-Every subset is used to train models and then evaluated on a test set. \n",
    "\n",
    "-They can end up being very computationally intensive, however, they are highly effective in determining the optimal subset. \n",
    "\n",
    "-Because wrapper methods are so time-consuming, it becomes challenging to use them with large feature sets.\n",
    "\n",
    "##### Example Techniques:\n",
    "\n",
    "Recursive Feature Elimination (RFE) – Iteratively removes least important features.\n",
    "    \n",
    "Forward Selection – Start with no features, add the most important one at a time.\n",
    "    \n",
    "Backward Elimination – Start with all features, remove the least important one at a time.\n",
    "\n",
    "Best for: Small to medium datasets, finding the best subset.\n",
    "    \n",
    "Downside: Computationally expensive.\n",
    "\n",
    "#### 4. Embedded Methods\n",
    "\n",
    "They perform feature selection during the model training process, rather than as a separate pre-processing step (like filter or wrapper methods). \n",
    "\n",
    "These methods integrate the feature selection with the learning algorithm itself, so features are selected based on their importance to the model's performance.\n",
    "\n",
    "\n",
    "##### Example Techniques:\n",
    "\n",
    "Lasso Regression (L1 Regularization) – Shrinks less important feature weights to zero.\n",
    "\n",
    "Decision Tree Feature Importance – Measures how much each feature contributes to reducing impurity.\n",
    "\n",
    "Best for: Models where feature importance is built-in (e.g., Lasso, Random Forest).\n",
    "\n",
    "Downside: Depends on the model used.\n",
    "\n"
   ]
  },
  {
   "cell_type": "markdown",
   "id": "bafa20fc-a916-4e59-8981-4981b15ffb46",
   "metadata": {},
   "source": [
    "### Practical Demonstration of Feature Selection"
   ]
  },
  {
   "cell_type": "markdown",
   "id": "448d89a8",
   "metadata": {},
   "source": [
    "## Importing Required Libraries\n",
    "\n",
    "We import all necessary libraries:\n",
    "\n",
    "- **Pandas & NumPy**: For data manipulation and numerical computations.\n",
    "- **Matplotlib & Seaborn**: For data visualization.\n",
    "- **Scikit-learn Modules**:\n",
    "  - `train_test_split`: Splits the dataset into training and testing sets.\n",
    "  - `OneHotEncoder`: Converts categorical variables into a format suitable for modeling.\n",
    "  - `StandardScaler`: Standardizes numerical features to improve model performance.\n",
    "  - `LinearRegression`: Our regression model.\n",
    "  - `mean_absolute_error, mean_squared_error, r2_score`: Evaluation metrics for model performance.\n",
    "  - `SelectKBest, f_regression, RFE`: Feature selection methods.\n"
   ]
  },
  {
   "cell_type": "code",
   "execution_count": 1,
   "id": "07ec2e80",
   "metadata": {},
   "outputs": [],
   "source": [
    "# Import necessary libraries\n",
    "import pandas as pd\n",
    "import numpy as np\n",
    "import matplotlib.pyplot as plt\n",
    "import seaborn as sns\n",
    "from sklearn.model_selection import train_test_split\n",
    "from sklearn.preprocessing import OneHotEncoder, StandardScaler\n",
    "from sklearn.linear_model import LinearRegression\n",
    "from sklearn.metrics import mean_absolute_error, mean_squared_error, r2_score\n",
    "from sklearn.feature_selection import SelectKBest, f_regression, RFE"
   ]
  },
  {
   "cell_type": "markdown",
   "id": "55d80139",
   "metadata": {},
   "source": [
    "## Loading and Preparing the Dataset\n",
    "\n",
    "- **Load the dataset (`cardata.csv`) into a Pandas DataFrame.**\n",
    "- **Apply one-hot encoding** to categorical features (`Fuel_Type`, `Seller_Type`, `Transmission`).\n",
    "- **Drop irrelevant columns**:\n",
    "  - `Car_Name`: It's a categorical string feature that does not contribute to numerical modeling.\n",
    "  - `Selling_Price`: This is our target variable `y`, so it must be separated from the features `X`.\n"
   ]
  },
  {
   "cell_type": "code",
   "execution_count": 2,
   "id": "83599557",
   "metadata": {},
   "outputs": [],
   "source": [
    "# Load the dataset\n",
    "df = pd.read_csv('cardata.csv')\n",
    "\n",
    "# Convert categorical features using one-hot encoding\n",
    "df = pd.get_dummies(df, columns=['Fuel_Type', 'Seller_Type', 'Transmission'], drop_first=True)\n",
    "\n",
    "# Define features and target variable\n",
    "X = df.drop(columns=['Car_Name', 'Selling_Price'])  # Drop car name (non-numeric) and target\n",
    "y = df['Selling_Price']"
   ]
  },
  {
   "cell_type": "markdown",
   "id": "9518747e",
   "metadata": {},
   "source": [
    "## Splitting Data and Standardizing Numerical Features\n",
    "\n",
    "- **Split the dataset** into training (`X_train, y_train`) and testing (`X_test, y_test`) sets.\n",
    "- **Apply feature scaling** using `StandardScaler`:\n",
    "  - Standardization is important for linear regression to ensure all numerical features are on a similar scale.\n",
    "  - It improves numerical stability and model performance.\n"
   ]
  },
  {
   "cell_type": "code",
   "execution_count": 3,
   "id": "6bb89973",
   "metadata": {},
   "outputs": [],
   "source": [
    "# Split data into training and test sets\n",
    "X_train, X_test, y_train, y_test = train_test_split(X, y, test_size=0.2, random_state=42)\n",
    "\n",
    "# Standardize numerical features\n",
    "scaler = StandardScaler()\n",
    "X_train_scaled = scaler.fit_transform(X_train)\n",
    "X_test_scaled = scaler.transform(X_test)"
   ]
  },
  {
   "cell_type": "markdown",
   "id": "63e67945",
   "metadata": {},
   "source": [
    "## Training the Baseline Linear Regression Model\n",
    "\n",
    "- **Train a Linear Regression model** using all available features.\n",
    "- **Make predictions on the test set**.\n",
    "- **Evaluate performance** using:\n",
    "  - Mean Absolute Error (MAE)\n",
    "  - Mean Squared Error (MSE)\n",
    "  - R-squared Score (R²)\n",
    "  \n",
    "This serves as a **baseline model** before we apply feature selection.\n"
   ]
  },
  {
   "cell_type": "code",
   "execution_count": 4,
   "id": "b4efa7e3",
   "metadata": {},
   "outputs": [
    {
     "name": "stdout",
     "output_type": "stream",
     "text": [
      "Baseline Model Performance:\n",
      "MAE: 1.2162\n",
      "MSE: 3.4788\n",
      "R^2 Score: 0.8490\n"
     ]
    }
   ],
   "source": [
    "# Train the initial linear regression model\n",
    "lr = LinearRegression()\n",
    "lr.fit(X_train_scaled, y_train)\n",
    "\n",
    "# Predictions\n",
    "y_pred = lr.predict(X_test_scaled)\n",
    "\n",
    "# Evaluate the model\n",
    "print(\"Baseline Model Performance:\")\n",
    "print(f\"MAE: {mean_absolute_error(y_test, y_pred):.4f}\")\n",
    "print(f\"MSE: {mean_squared_error(y_test, y_pred):.4f}\")\n",
    "print(f\"R^2 Score: {r2_score(y_test, y_pred):.4f}\")"
   ]
  },
  {
   "cell_type": "markdown",
   "id": "28bfb79b",
   "metadata": {},
   "source": [
    "# Modeling with feature selection  \n",
    "Here now we will perform modeling, with the various feature selection methods and analyze their performances.  \n",
    "These are the methods we will use:  \n",
    "- 1. Correlation-based selection\n",
    "- 2. Recursive Feature Elimination (RFE)\n",
    "- 3. SelectKBest"
   ]
  },
  {
   "cell_type": "markdown",
   "id": "eca0a969",
   "metadata": {},
   "source": [
    "## Feature Correlation Matrix\n",
    "\n",
    "- **Calculate the correlation matrix** to analyze relationships between features.\n",
    "- **Plot a heatmap** to visualize correlation strength:\n",
    "  - Values close to **1** (or **-1**) indicate strong correlation.\n",
    "  - Values near **0** indicate weak or no correlation.\n",
    "  \n",
    "This helps us identify **redundant features** that may not add value to the model.\n"
   ]
  },
  {
   "cell_type": "code",
   "execution_count": 5,
   "id": "ccdbab4e",
   "metadata": {},
   "outputs": [
    {
     "data": {
      "image/png": "[encoded data removed]",
      "text/plain": [
       "<Figure size 1000x600 with 2 Axes>"
      ]
     },
     "metadata": {},
     "output_type": "display_data"
    }
   ],
   "source": [
    "corr_matrix = df.drop(columns=['Car_Name']).corr()\n",
    "\n",
    "# Plot the heatmap\n",
    "plt.figure(figsize=(10, 6))\n",
    "sns.heatmap(corr_matrix, annot=True, cmap=\"coolwarm\", fmt=\".2f\")\n",
    "plt.title(\"Feature Correlation Matrix\")\n",
    "plt.show()"
   ]
  },
  {
   "cell_type": "markdown",
   "id": "b4f59be2",
   "metadata": {},
   "source": [
    "## Feature Selection Based on Correlation\n",
    "\n",
    "- **Identify features that have a correlation greater than 0.1 with `Selling_Price`**.\n",
    "- **Remove weakly correlated features** to simplify the model.\n",
    "- **Train the model again** with only these selected features.\n",
    "\n",
    "This method assumes that features with higher correlation to the target are more important."
   ]
  },
  {
   "cell_type": "code",
   "execution_count": 6,
   "id": "654df1e0",
   "metadata": {},
   "outputs": [],
   "source": [
    "# Identify features with high correlation to 'Selling_Price' (excluding the target itself)\n",
    "high_corr_features = corr_matrix.index[abs(corr_matrix[\"Selling_Price\"]) > 0.1].tolist()\n",
    "high_corr_features.remove(\"Selling_Price\")  # Explicitly remove the target variable\n",
    "\n",
    "# Select only the high-correlation features in X_train and X_test\n",
    "X_train_corr = X_train[high_corr_features]\n",
    "X_test_corr = X_test[high_corr_features]"
   ]
  },
  {
   "cell_type": "markdown",
   "id": "3c6f7d78",
   "metadata": {},
   "source": [
    "## Training the Model with Correlation-Based Features\n",
    "\n",
    "- Train a new Linear Regression model using only the **highly correlated features**.\n",
    "- Evaluate model performance using MAE, MSE, and R² Score.\n",
    "- Compare results with the baseline model to see if feature reduction improves or worsens performance."
   ]
  },
  {
   "cell_type": "code",
   "execution_count": 7,
   "id": "047bb88a",
   "metadata": {},
   "outputs": [
    {
     "name": "stdout",
     "output_type": "stream",
     "text": [
      "\n",
      "Correlation-based Feature Selection Model Performance:\n",
      "MAE: 1.2096\n",
      "MSE: 3.4118\n",
      "R^2 Score: 0.8519\n"
     ]
    }
   ],
   "source": [
    "# Train the model again with selected features\n",
    "lr.fit(X_train_corr, y_train)\n",
    "y_pred_corr = lr.predict(X_test_corr)\n",
    "\n",
    "# Evaluate the model\n",
    "print(\"\\nCorrelation-based Feature Selection Model Performance:\")\n",
    "print(f\"MAE: {mean_absolute_error(y_test, y_pred_corr):.4f}\")\n",
    "print(f\"MSE: {mean_squared_error(y_test, y_pred_corr):.4f}\")\n",
    "print(f\"R^2 Score: {r2_score(y_test, y_pred_corr):.4f}\")"
   ]
  },
  {
   "cell_type": "markdown",
   "id": "b6829f32",
   "metadata": {},
   "source": [
    "## Recursive Feature Elimination (RFE)\n",
    "\n",
    "- **RFE is an iterative feature selection method**:\n",
    "  - Starts with all features.\n",
    "  - Trains a model and removes the least important feature in each iteration.\n",
    "  - Stops when only the top `n` features remain.\n",
    "\n",
    "- We select **5 most important features** using RFE and retrain the model.\n",
    "- Compare its performance with previous models.\n"
   ]
  },
  {
   "cell_type": "code",
   "execution_count": 8,
   "id": "44aa36f5",
   "metadata": {},
   "outputs": [
    {
     "name": "stdout",
     "output_type": "stream",
     "text": [
      "\n",
      "RFE-based Feature Selection Model Performance:\n",
      "MAE: 1.2077\n",
      "MSE: 3.4051\n",
      "R^2 Score: 0.8522\n"
     ]
    }
   ],
   "source": [
    "rfe = RFE(estimator=LinearRegression(), n_features_to_select=5)\n",
    "X_train_rfe = rfe.fit_transform(X_train_scaled, y_train)\n",
    "X_test_rfe = rfe.transform(X_test_scaled)\n",
    "\n",
    "lr.fit(X_train_rfe, y_train)\n",
    "y_pred_rfe = lr.predict(X_test_rfe)\n",
    "\n",
    "# Evaluate the model\n",
    "print(\"\\nRFE-based Feature Selection Model Performance:\")\n",
    "print(f\"MAE: {mean_absolute_error(y_test, y_pred_rfe):.4f}\")\n",
    "print(f\"MSE: {mean_squared_error(y_test, y_pred_rfe):.4f}\")\n",
    "print(f\"R^2 Score: {r2_score(y_test, y_pred_rfe):.4f}\")"
   ]
  },
  {
   "cell_type": "markdown",
   "id": "006f832d",
   "metadata": {},
   "source": [
    "## SelectKBest Feature Selection\n",
    "\n",
    "- **SelectKBest selects the `k` most important features** based on statistical tests.\n",
    "- We use **f_regression** to pick the **top 5 features** with the strongest relationship to `Selling_Price`.\n",
    "- The model is trained again with these selected features.\n",
    "- Performance is evaluated and compared with other feature selection methods.\n"
   ]
  },
  {
   "cell_type": "code",
   "execution_count": 9,
   "id": "c1108654",
   "metadata": {},
   "outputs": [
    {
     "name": "stdout",
     "output_type": "stream",
     "text": [
      "\n",
      "SelectKBest Feature Selection Model Performance:\n",
      "MAE: 1.6301\n",
      "MSE: 6.2641\n",
      "R^2 Score: 0.7281\n"
     ]
    }
   ],
   "source": [
    "selector = SelectKBest(score_func=f_regression, k=5)\n",
    "X_train_kbest = selector.fit_transform(X_train_scaled, y_train)\n",
    "X_test_kbest = selector.transform(X_test_scaled)\n",
    "\n",
    "lr.fit(X_train_kbest, y_train)\n",
    "y_pred_kbest = lr.predict(X_test_kbest)\n",
    "\n",
    "# Evaluate the model\n",
    "print(\"\\nSelectKBest Feature Selection Model Performance:\")\n",
    "print(f\"MAE: {mean_absolute_error(y_test, y_pred_kbest):.4f}\")\n",
    "print(f\"MSE: {mean_squared_error(y_test, y_pred_kbest):.4f}\")\n",
    "print(f\"R^2 Score: {r2_score(y_test, y_pred_kbest):.4f}\")"
   ]
  },
  {
   "cell_type": "code",
   "execution_count": 10,
   "id": "fdabdd17",
   "metadata": {},
   "outputs": [
    {
     "data": {
      "text/html": [
       "<div>\n",
       "<style scoped>\n",
       "    .dataframe tbody tr th:only-of-type {\n",
       "        vertical-align: middle;\n",
       "    }\n",
       "\n",
       "    .dataframe tbody tr th {\n",
       "        vertical-align: top;\n",
       "    }\n",
       "\n",
       "    .dataframe thead th {\n",
       "        text-align: right;\n",
       "    }\n",
       "</style>\n",
       "<table border=\"1\" class=\"dataframe\">\n",
       "  <thead>\n",
       "    <tr style=\"text-align: right;\">\n",
       "      <th></th>\n",
       "      <th>Model</th>\n",
       "      <th>MAE</th>\n",
       "      <th>MSE</th>\n",
       "      <th>R^2 Score</th>\n",
       "    </tr>\n",
       "  </thead>\n",
       "  <tbody>\n",
       "    <tr>\n",
       "      <th>0</th>\n",
       "      <td>Baseline (All Features)</td>\n",
       "      <td>1.216226</td>\n",
       "      <td>3.478804</td>\n",
       "      <td>0.848981</td>\n",
       "    </tr>\n",
       "    <tr>\n",
       "      <th>1</th>\n",
       "      <td>Correlation-based Selection</td>\n",
       "      <td>1.209563</td>\n",
       "      <td>3.411767</td>\n",
       "      <td>0.851891</td>\n",
       "    </tr>\n",
       "    <tr>\n",
       "      <th>2</th>\n",
       "      <td>RFE-based Selection</td>\n",
       "      <td>1.207744</td>\n",
       "      <td>3.405117</td>\n",
       "      <td>0.852180</td>\n",
       "    </tr>\n",
       "    <tr>\n",
       "      <th>3</th>\n",
       "      <td>SelectKBest Selection</td>\n",
       "      <td>1.630122</td>\n",
       "      <td>6.264099</td>\n",
       "      <td>0.728069</td>\n",
       "    </tr>\n",
       "  </tbody>\n",
       "</table>\n",
       "</div>"
      ],
      "text/plain": [
       "                         Model       MAE       MSE  R^2 Score\n",
       "0      Baseline (All Features)  1.216226  3.478804   0.848981\n",
       "1  Correlation-based Selection  1.209563  3.411767   0.851891\n",
       "2          RFE-based Selection  1.207744  3.405117   0.852180\n",
       "3        SelectKBest Selection  1.630122  6.264099   0.728069"
      ]
     },
     "execution_count": 10,
     "metadata": {},
     "output_type": "execute_result"
    }
   ],
   "source": [
    "# Store results in a dictionary dynamically\n",
    "results_dict = {\n",
    "    \"Model\": [\n",
    "        \"Baseline (All Features)\",\n",
    "        \"Correlation-based Selection\",\n",
    "        \"RFE-based Selection\",\n",
    "        \"SelectKBest Selection\"\n",
    "    ],\n",
    "    \"MAE\": [mean_absolute_error(y_test, y_pred),\n",
    "            mean_absolute_error(y_test, y_pred_corr),\n",
    "            mean_absolute_error(y_test, y_pred_rfe),\n",
    "            mean_absolute_error(y_test, y_pred_kbest)],\n",
    "    \"MSE\": [mean_squared_error(y_test, y_pred),\n",
    "            mean_squared_error(y_test, y_pred_corr),\n",
    "            mean_squared_error(y_test, y_pred_rfe),\n",
    "            mean_squared_error(y_test, y_pred_kbest)],\n",
    "    \"R^2 Score\": [r2_score(y_test, y_pred),\n",
    "                  r2_score(y_test, y_pred_corr),\n",
    "                  r2_score(y_test, y_pred_rfe),\n",
    "                  r2_score(y_test, y_pred_kbest)]\n",
    "}\n",
    "\n",
    "\n",
    "results_df = pd.DataFrame(results_dict)\n",
    "results_df"
   ]
  },
  {
   "cell_type": "markdown",
   "id": "f65a5010",
   "metadata": {},
   "source": [
    "## 📊 Model Performance Summary\n",
    "\n",
    "This section summarizes the results of different feature selection techniques and their impact on **Linear Regression** model performance.\n",
    "\n",
    "### **Baseline Model (All Features)**\n",
    "- **MAE:** 1.2162  \n",
    "- **MSE:** 3.4788  \n",
    "- **R² Score:** 0.8490  \n",
    "**Interpretation:**  \n",
    "The initial model performs well, explaining **84.9%** of the variance in `Selling_Price`. This serves as the benchmark for comparison.\n",
    "\n",
    "---\n",
    "\n",
    "### **Correlation-Based Feature Selection**\n",
    "- **MAE:** 1.2096 (slightly better)  \n",
    "- **MSE:** 3.4118 (slightly lower)  \n",
    "- **R² Score:** 0.8519 (slightly improved)  \n",
    "**Interpretation:**  \n",
    "By removing **less relevant features** based on correlation, the model performs **slightly better**, indicating that some features were **not adding much value**.\n",
    "\n",
    "---\n",
    "\n",
    "### **RFE (Recursive Feature Elimination)**\n",
    "- **MAE:** 1.2077 (best among all)  \n",
    "- **MSE:** 3.4051 (best among all)  \n",
    "- **R² Score:** 0.8522 (highest)  \n",
    "**Interpretation:**  \n",
    "RFE provided the **best performance** by eliminating the **least useful features**. This suggests that **removing unnecessary features improves model generalization**.\n",
    "\n",
    "---\n",
    "\n",
    "### **SelectKBest**\n",
    "- **MAE:** 1.6301 (worst)  \n",
    "- **MSE:** 6.2641 (highest error)  \n",
    "- **R² Score:** 0.7281 (significantly worse)  \n",
    "**Interpretation:**  \n",
    "This method performed **poorly**, indicating that selecting **only 5 features** did not capture enough information to predict `Selling_Price` accurately.  \n",
    "This suggests:\n",
    "- **k=5 was too low**, removing useful predictors.\n",
    "- **Alternative selection criteria (e.g., mutual information) should be tested.**\n",
    "\n",
    "---\n",
    "\n",
    "## 📌 **Best Course of Action**\n",
    "1️⃣ **Use RFE-based feature selection** → **Best performance overall.**  \n",
    "2️⃣ **Correlation-based selection** → A simpler but effective alternative.  \n",
    "3️⃣ **Re-evaluate SelectKBest**:\n",
    "   - Increase `k` (e.g., 7 or 8) to include more relevant features.\n",
    "   - Test alternative selection functions (`mutual_info_regression` instead of `f_regression`).  \n",
    "4️⃣ **Avoid using all features** → Feature selection improves model efficiency and accuracy.\n",
    "\n",
    "---\n"
   ]
  },
  {
   "cell_type": "code",
   "execution_count": 11,
   "id": "75358136",
   "metadata": {},
   "outputs": [
    {
     "name": "stdout",
     "output_type": "stream",
     "text": [
      "Selected Features by RFE: ['Year', 'Present_Price', 'Fuel_Type_Diesel', 'Seller_Type_Individual', 'Transmission_Manual']\n"
     ]
    },
    {
     "data": {
      "image/png": "[encoded data removed]",
      "text/plain": [
       "<Figure size 1000x500 with 1 Axes>"
      ]
     },
     "metadata": {},
     "output_type": "display_data"
    }
   ],
   "source": [
    "# Extract feature rankings from RFE\n",
    "feature_ranks = pd.DataFrame({\n",
    "    \"Feature\": X_train.columns, \n",
    "    \"Rank\": rfe.ranking_\n",
    "})\n",
    "\n",
    "# Get selected features (Rank = 1 means the feature was kept)\n",
    "selected_features = feature_ranks[feature_ranks[\"Rank\"] == 1][\"Feature\"].tolist()\n",
    "\n",
    "# Sort features by importance (lower rank is more important)\n",
    "feature_ranks = feature_ranks.sort_values(by=\"Rank\")\n",
    "\n",
    "# Display the selected features\n",
    "print(\"Selected Features by RFE:\", selected_features)\n",
    "\n",
    "# Plot feature importance rankings\n",
    "plt.figure(figsize=(10, 5))\n",
    "sns.barplot(x=\"Rank\", y=\"Feature\", data=feature_ranks, palette=\"coolwarm\")\n",
    "plt.xlabel(\"RFE Rank (Lower is More Important)\")\n",
    "plt.ylabel(\"Feature\")\n",
    "plt.title(\"Feature Importance Ranking (RFE)\")\n",
    "plt.show()"
   ]
  },
  {
   "cell_type": "markdown",
   "id": "d6ad06f0",
   "metadata": {},
   "source": [
    "## Understanding RFE Ranking and Feature Importance\n",
    "Recursive Feature Elimination (RFE) is a backward selection process that ranks features from least to most important based on their contribution to the model.\n",
    "\n",
    "How RFE Works:  \n",
    "1.Starts with all features.  \n",
    "2.Trains a model (like LinearRegression).  \n",
    "3.Evaluates feature importance (e.g., based on coefficients).  \n",
    "4.Removes the least important feature.  \n",
    "5.Repeats until only the best n features remain.  \n",
    "6.Assigns rankings:  \n",
    "   Features kept until the end get Rank = 1 (most important).  \n",
    "   Features removed early get higher ranks."
   ]
  },
  {
   "cell_type": "markdown",
   "id": "b33dcde6",
   "metadata": {},
   "source": [
    "Think of it like a sports competition:\n",
    "\n",
    "The winner (most important feature) gets Rank 1.\n",
    "The runner-ups get Rank 2, 3, etc..\n",
    "The last-ranked players were eliminated first because they contributed the least."
   ]
  }
 ],
 "metadata": {
  "kernelspec": {
   "display_name": "Python 3 (ipykernel)",
   "language": "python",
   "name": "python3"
  },
  "language_info": {
   "codemirror_mode": {
    "name": "ipython",
    "version": 3
   },
   "file_extension": ".py",
   "mimetype": "text/x-python",
   "name": "python",
   "nbconvert_exporter": "python",
   "pygments_lexer": "ipython3",
   "version": "3.11.7"
  }
 },
 "nbformat": 4,
 "nbformat_minor": 5
}
